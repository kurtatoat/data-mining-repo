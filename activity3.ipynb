{
 "cells": [
  {
   "cell_type": "code",
   "execution_count": 1,
   "id": "05300d51-1dc4-4a5e-9ac0-b7e221a2f478",
   "metadata": {},
   "outputs": [
    {
     "name": "stdout",
     "output_type": "stream",
     "text": [
      "Defaulting to user installation because normal site-packages is not writeable\n",
      "Requirement already satisfied: scipy in c:\\users\\lenovo\\appdata\\local\\packages\\pythonsoftwarefoundation.python.3.13_qbz5n2kfra8p0\\localcache\\local-packages\\python313\\site-packages (1.15.2)\n",
      "Requirement already satisfied: numpy<2.5,>=1.23.5 in c:\\users\\lenovo\\appdata\\local\\packages\\pythonsoftwarefoundation.python.3.13_qbz5n2kfra8p0\\localcache\\local-packages\\python313\\site-packages (from scipy) (2.2.3)\n",
      "Note: you may need to restart the kernel to use updated packages.\n"
     ]
    },
    {
     "name": "stderr",
     "output_type": "stream",
     "text": [
      "\n",
      "[notice] A new release of pip is available: 24.3.1 -> 25.0.1\n",
      "[notice] To update, run: C:\\Users\\Lenovo\\AppData\\Local\\Microsoft\\WindowsApps\\PythonSoftwareFoundation.Python.3.13_qbz5n2kfra8p0\\python.exe -m pip install --upgrade pip\n"
     ]
    }
   ],
   "source": [
    "pip install scipy"
   ]
  },
  {
   "cell_type": "markdown",
   "id": "b70c0b4d-72c4-432a-960d-5439beb1f88d",
   "metadata": {},
   "source": [
    "<h1> DATA ANALYTICS PROJECT </h1>"
   ]
  },
  {
   "cell_type": "markdown",
   "id": "502b9f56-ef55-461d-aed5-496150170589",
   "metadata": {},
   "source": [
    "<h2> United Kingdom Road Accident Data Analysis</h2>\n",
    "<h3> Inclusive years : 2019 - 2022</h3>"
   ]
  },
  {
   "cell_type": "markdown",
   "id": "99ab4a63-ea40-408c-83da-79344816a55c",
   "metadata": {},
   "source": [
    "<h1> IMPORTING LIBRARIES</h1>"
   ]
  },
  {
   "cell_type": "code",
   "execution_count": 2,
   "id": "9dabc5fd-122a-4990-8b11-5fb3aa3779ad",
   "metadata": {},
   "outputs": [],
   "source": [
    "import numpy as np\n",
    "import pandas as pd\n",
    "import seaborn as sns\n",
    "import matplotlib.pyplot as plt\n",
    "import warnings\n",
    "import scipy\n",
    "warnings.filterwarnings('ignore')\n",
    "from scipy.stats import f_oneway"
   ]
  },
  {
   "cell_type": "markdown",
   "id": "6ab82999-c3a1-47e8-ab40-a9cb6707cee8",
   "metadata": {},
   "source": [
    "<h1>  DATA PREPARATION </h1>"
   ]
  },
  {
   "cell_type": "code",
   "execution_count": 3,
   "id": "dd6dce84-93b7-4620-aa75-c913b7e8ca18",
   "metadata": {},
   "outputs": [],
   "source": [
    "accident = pd.read_csv(\"dataset\\\\accident_data.csv\")"
   ]
  },
  {
   "cell_type": "code",
   "execution_count": 4,
   "id": "be83acdd-3dc3-450b-be42-d583572a981e",
   "metadata": {
    "scrolled": true
   },
   "outputs": [
    {
     "data": {
      "text/html": [
       "<div>\n",
       "<style scoped>\n",
       "    .dataframe tbody tr th:only-of-type {\n",
       "        vertical-align: middle;\n",
       "    }\n",
       "\n",
       "    .dataframe tbody tr th {\n",
       "        vertical-align: top;\n",
       "    }\n",
       "\n",
       "    .dataframe thead th {\n",
       "        text-align: right;\n",
       "    }\n",
       "</style>\n",
       "<table border=\"1\" class=\"dataframe\">\n",
       "  <thead>\n",
       "    <tr style=\"text-align: right;\">\n",
       "      <th></th>\n",
       "      <th>Index</th>\n",
       "      <th>Accident_Severity</th>\n",
       "      <th>Accident Date</th>\n",
       "      <th>Latitude</th>\n",
       "      <th>Light_Conditions</th>\n",
       "      <th>District Area</th>\n",
       "      <th>Longitude</th>\n",
       "      <th>Number_of_Casualties</th>\n",
       "      <th>Number_of_Vehicles</th>\n",
       "      <th>Road_Surface_Conditions</th>\n",
       "      <th>Road_Type</th>\n",
       "      <th>Urban_or_Rural_Area</th>\n",
       "      <th>Weather_Conditions</th>\n",
       "      <th>Vehicle_Type</th>\n",
       "    </tr>\n",
       "  </thead>\n",
       "  <tbody>\n",
       "    <tr>\n",
       "      <th>0</th>\n",
       "      <td>200701BS64157</td>\n",
       "      <td>Serious</td>\n",
       "      <td>05/06/2019</td>\n",
       "      <td>51.506187</td>\n",
       "      <td>Darkness - lights lit</td>\n",
       "      <td>Kensington and Chelsea</td>\n",
       "      <td>-0.209082</td>\n",
       "      <td>1</td>\n",
       "      <td>2</td>\n",
       "      <td>Dry</td>\n",
       "      <td>Single carriageway</td>\n",
       "      <td>Urban</td>\n",
       "      <td>Fine no high winds</td>\n",
       "      <td>Car</td>\n",
       "    </tr>\n",
       "    <tr>\n",
       "      <th>1</th>\n",
       "      <td>200701BS65737</td>\n",
       "      <td>Serious</td>\n",
       "      <td>02/07/2019</td>\n",
       "      <td>51.495029</td>\n",
       "      <td>Daylight</td>\n",
       "      <td>Kensington and Chelsea</td>\n",
       "      <td>-0.173647</td>\n",
       "      <td>1</td>\n",
       "      <td>2</td>\n",
       "      <td>Wet or damp</td>\n",
       "      <td>Single carriageway</td>\n",
       "      <td>Urban</td>\n",
       "      <td>Raining no high winds</td>\n",
       "      <td>Car</td>\n",
       "    </tr>\n",
       "    <tr>\n",
       "      <th>2</th>\n",
       "      <td>200701BS66127</td>\n",
       "      <td>Serious</td>\n",
       "      <td>26/08/2019</td>\n",
       "      <td>51.517715</td>\n",
       "      <td>Darkness - lighting unknown</td>\n",
       "      <td>Kensington and Chelsea</td>\n",
       "      <td>-0.210215</td>\n",
       "      <td>1</td>\n",
       "      <td>3</td>\n",
       "      <td>Dry</td>\n",
       "      <td>NaN</td>\n",
       "      <td>Urban</td>\n",
       "      <td>NaN</td>\n",
       "      <td>Taxi/Private hire car</td>\n",
       "    </tr>\n",
       "    <tr>\n",
       "      <th>3</th>\n",
       "      <td>200701BS66128</td>\n",
       "      <td>Serious</td>\n",
       "      <td>16/08/2019</td>\n",
       "      <td>51.495478</td>\n",
       "      <td>Daylight</td>\n",
       "      <td>Kensington and Chelsea</td>\n",
       "      <td>-0.202731</td>\n",
       "      <td>1</td>\n",
       "      <td>4</td>\n",
       "      <td>Dry</td>\n",
       "      <td>Single carriageway</td>\n",
       "      <td>Urban</td>\n",
       "      <td>Fine no high winds</td>\n",
       "      <td>Bus or coach (17 or more pass seats)</td>\n",
       "    </tr>\n",
       "    <tr>\n",
       "      <th>4</th>\n",
       "      <td>200701BS66837</td>\n",
       "      <td>Slight</td>\n",
       "      <td>03/09/2019</td>\n",
       "      <td>51.488576</td>\n",
       "      <td>Darkness - lights lit</td>\n",
       "      <td>Kensington and Chelsea</td>\n",
       "      <td>-0.192487</td>\n",
       "      <td>1</td>\n",
       "      <td>2</td>\n",
       "      <td>Dry</td>\n",
       "      <td>NaN</td>\n",
       "      <td>Urban</td>\n",
       "      <td>NaN</td>\n",
       "      <td>Other vehicle</td>\n",
       "    </tr>\n",
       "    <tr>\n",
       "      <th>...</th>\n",
       "      <td>...</td>\n",
       "      <td>...</td>\n",
       "      <td>...</td>\n",
       "      <td>...</td>\n",
       "      <td>...</td>\n",
       "      <td>...</td>\n",
       "      <td>...</td>\n",
       "      <td>...</td>\n",
       "      <td>...</td>\n",
       "      <td>...</td>\n",
       "      <td>...</td>\n",
       "      <td>...</td>\n",
       "      <td>...</td>\n",
       "      <td>...</td>\n",
       "    </tr>\n",
       "    <tr>\n",
       "      <th>660674</th>\n",
       "      <td>201091NM01760</td>\n",
       "      <td>Slight</td>\n",
       "      <td>18/02/2022</td>\n",
       "      <td>57.374005</td>\n",
       "      <td>Daylight</td>\n",
       "      <td>Highland</td>\n",
       "      <td>-3.467828</td>\n",
       "      <td>2</td>\n",
       "      <td>1</td>\n",
       "      <td>Dry</td>\n",
       "      <td>Single carriageway</td>\n",
       "      <td>Rural</td>\n",
       "      <td>Fine no high winds</td>\n",
       "      <td>Car</td>\n",
       "    </tr>\n",
       "    <tr>\n",
       "      <th>660675</th>\n",
       "      <td>201091NM01881</td>\n",
       "      <td>Slight</td>\n",
       "      <td>21/02/2022</td>\n",
       "      <td>57.232273</td>\n",
       "      <td>Darkness - no lighting</td>\n",
       "      <td>Highland</td>\n",
       "      <td>-3.809281</td>\n",
       "      <td>1</td>\n",
       "      <td>1</td>\n",
       "      <td>Frost or ice</td>\n",
       "      <td>Single carriageway</td>\n",
       "      <td>Rural</td>\n",
       "      <td>Fine no high winds</td>\n",
       "      <td>Car</td>\n",
       "    </tr>\n",
       "    <tr>\n",
       "      <th>660676</th>\n",
       "      <td>201091NM01935</td>\n",
       "      <td>Slight</td>\n",
       "      <td>23/02/2022</td>\n",
       "      <td>57.585044</td>\n",
       "      <td>Daylight</td>\n",
       "      <td>Highland</td>\n",
       "      <td>-3.862727</td>\n",
       "      <td>1</td>\n",
       "      <td>3</td>\n",
       "      <td>Frost or ice</td>\n",
       "      <td>Single carriageway</td>\n",
       "      <td>Rural</td>\n",
       "      <td>Fine no high winds</td>\n",
       "      <td>Car</td>\n",
       "    </tr>\n",
       "    <tr>\n",
       "      <th>660677</th>\n",
       "      <td>201091NM01964</td>\n",
       "      <td>Serious</td>\n",
       "      <td>23/02/2022</td>\n",
       "      <td>57.214898</td>\n",
       "      <td>Darkness - no lighting</td>\n",
       "      <td>Highland</td>\n",
       "      <td>-3.823997</td>\n",
       "      <td>1</td>\n",
       "      <td>2</td>\n",
       "      <td>Wet or damp</td>\n",
       "      <td>Single carriageway</td>\n",
       "      <td>Rural</td>\n",
       "      <td>Fine no high winds</td>\n",
       "      <td>Motorcycle over 500cc</td>\n",
       "    </tr>\n",
       "    <tr>\n",
       "      <th>660678</th>\n",
       "      <td>201091NM02142</td>\n",
       "      <td>Serious</td>\n",
       "      <td>28/02/2022</td>\n",
       "      <td>57.575210</td>\n",
       "      <td>Daylight</td>\n",
       "      <td>Highland</td>\n",
       "      <td>-3.895673</td>\n",
       "      <td>1</td>\n",
       "      <td>1</td>\n",
       "      <td>Wet or damp</td>\n",
       "      <td>Dual carriageway</td>\n",
       "      <td>Rural</td>\n",
       "      <td>Snowing no high winds</td>\n",
       "      <td>Car</td>\n",
       "    </tr>\n",
       "  </tbody>\n",
       "</table>\n",
       "<p>660679 rows × 14 columns</p>\n",
       "</div>"
      ],
      "text/plain": [
       "                Index Accident_Severity Accident Date   Latitude  \\\n",
       "0       200701BS64157           Serious    05/06/2019  51.506187   \n",
       "1       200701BS65737           Serious    02/07/2019  51.495029   \n",
       "2       200701BS66127           Serious    26/08/2019  51.517715   \n",
       "3       200701BS66128           Serious    16/08/2019  51.495478   \n",
       "4       200701BS66837            Slight    03/09/2019  51.488576   \n",
       "...               ...               ...           ...        ...   \n",
       "660674  201091NM01760            Slight    18/02/2022  57.374005   \n",
       "660675  201091NM01881            Slight    21/02/2022  57.232273   \n",
       "660676  201091NM01935            Slight    23/02/2022  57.585044   \n",
       "660677  201091NM01964           Serious    23/02/2022  57.214898   \n",
       "660678  201091NM02142           Serious    28/02/2022  57.575210   \n",
       "\n",
       "                   Light_Conditions           District Area  Longitude  \\\n",
       "0             Darkness - lights lit  Kensington and Chelsea  -0.209082   \n",
       "1                          Daylight  Kensington and Chelsea  -0.173647   \n",
       "2       Darkness - lighting unknown  Kensington and Chelsea  -0.210215   \n",
       "3                          Daylight  Kensington and Chelsea  -0.202731   \n",
       "4             Darkness - lights lit  Kensington and Chelsea  -0.192487   \n",
       "...                             ...                     ...        ...   \n",
       "660674                     Daylight                Highland  -3.467828   \n",
       "660675       Darkness - no lighting                Highland  -3.809281   \n",
       "660676                     Daylight                Highland  -3.862727   \n",
       "660677       Darkness - no lighting                Highland  -3.823997   \n",
       "660678                     Daylight                Highland  -3.895673   \n",
       "\n",
       "        Number_of_Casualties  Number_of_Vehicles Road_Surface_Conditions  \\\n",
       "0                          1                   2                     Dry   \n",
       "1                          1                   2             Wet or damp   \n",
       "2                          1                   3                     Dry   \n",
       "3                          1                   4                     Dry   \n",
       "4                          1                   2                     Dry   \n",
       "...                      ...                 ...                     ...   \n",
       "660674                     2                   1                     Dry   \n",
       "660675                     1                   1            Frost or ice   \n",
       "660676                     1                   3            Frost or ice   \n",
       "660677                     1                   2             Wet or damp   \n",
       "660678                     1                   1             Wet or damp   \n",
       "\n",
       "                 Road_Type Urban_or_Rural_Area     Weather_Conditions  \\\n",
       "0       Single carriageway               Urban     Fine no high winds   \n",
       "1       Single carriageway               Urban  Raining no high winds   \n",
       "2                      NaN               Urban                    NaN   \n",
       "3       Single carriageway               Urban     Fine no high winds   \n",
       "4                      NaN               Urban                    NaN   \n",
       "...                    ...                 ...                    ...   \n",
       "660674  Single carriageway               Rural     Fine no high winds   \n",
       "660675  Single carriageway               Rural     Fine no high winds   \n",
       "660676  Single carriageway               Rural     Fine no high winds   \n",
       "660677  Single carriageway               Rural     Fine no high winds   \n",
       "660678    Dual carriageway               Rural  Snowing no high winds   \n",
       "\n",
       "                                Vehicle_Type  \n",
       "0                                        Car  \n",
       "1                                        Car  \n",
       "2                      Taxi/Private hire car  \n",
       "3       Bus or coach (17 or more pass seats)  \n",
       "4                              Other vehicle  \n",
       "...                                      ...  \n",
       "660674                                   Car  \n",
       "660675                                   Car  \n",
       "660676                                   Car  \n",
       "660677                 Motorcycle over 500cc  \n",
       "660678                                   Car  \n",
       "\n",
       "[660679 rows x 14 columns]"
      ]
     },
     "execution_count": 4,
     "metadata": {},
     "output_type": "execute_result"
    }
   ],
   "source": [
    "accident"
   ]
  },
  {
   "cell_type": "code",
   "execution_count": 5,
   "id": "263f873b-d2de-483b-804e-96138893cc18",
   "metadata": {},
   "outputs": [
    {
     "name": "stdout",
     "output_type": "stream",
     "text": [
      "<class 'pandas.core.frame.DataFrame'>\n",
      "RangeIndex: 660679 entries, 0 to 660678\n",
      "Data columns (total 14 columns):\n",
      " #   Column                   Non-Null Count   Dtype  \n",
      "---  ------                   --------------   -----  \n",
      " 0   Index                    660679 non-null  object \n",
      " 1   Accident_Severity        660679 non-null  object \n",
      " 2   Accident Date            660679 non-null  object \n",
      " 3   Latitude                 660654 non-null  float64\n",
      " 4   Light_Conditions         660679 non-null  object \n",
      " 5   District Area            660679 non-null  object \n",
      " 6   Longitude                660653 non-null  float64\n",
      " 7   Number_of_Casualties     660679 non-null  int64  \n",
      " 8   Number_of_Vehicles       660679 non-null  int64  \n",
      " 9   Road_Surface_Conditions  659953 non-null  object \n",
      " 10  Road_Type                656159 non-null  object \n",
      " 11  Urban_or_Rural_Area      660664 non-null  object \n",
      " 12  Weather_Conditions       646551 non-null  object \n",
      " 13  Vehicle_Type             660679 non-null  object \n",
      "dtypes: float64(2), int64(2), object(10)\n",
      "memory usage: 70.6+ MB\n"
     ]
    }
   ],
   "source": [
    "accident.info()"
   ]
  },
  {
   "cell_type": "code",
   "execution_count": 6,
   "id": "2f71183a-fd25-4c46-a8bb-4ccbcb4c7707",
   "metadata": {},
   "outputs": [
    {
     "data": {
      "text/html": [
       "<div>\n",
       "<style scoped>\n",
       "    .dataframe tbody tr th:only-of-type {\n",
       "        vertical-align: middle;\n",
       "    }\n",
       "\n",
       "    .dataframe tbody tr th {\n",
       "        vertical-align: top;\n",
       "    }\n",
       "\n",
       "    .dataframe thead th {\n",
       "        text-align: right;\n",
       "    }\n",
       "</style>\n",
       "<table border=\"1\" class=\"dataframe\">\n",
       "  <thead>\n",
       "    <tr style=\"text-align: right;\">\n",
       "      <th></th>\n",
       "      <th>Latitude</th>\n",
       "      <th>Longitude</th>\n",
       "      <th>Number_of_Casualties</th>\n",
       "      <th>Number_of_Vehicles</th>\n",
       "    </tr>\n",
       "  </thead>\n",
       "  <tbody>\n",
       "    <tr>\n",
       "      <th>count</th>\n",
       "      <td>660654.000000</td>\n",
       "      <td>660653.000000</td>\n",
       "      <td>660679.000000</td>\n",
       "      <td>660679.000000</td>\n",
       "    </tr>\n",
       "    <tr>\n",
       "      <th>mean</th>\n",
       "      <td>52.553866</td>\n",
       "      <td>-1.431210</td>\n",
       "      <td>1.357040</td>\n",
       "      <td>1.831255</td>\n",
       "    </tr>\n",
       "    <tr>\n",
       "      <th>std</th>\n",
       "      <td>1.406922</td>\n",
       "      <td>1.383330</td>\n",
       "      <td>0.824847</td>\n",
       "      <td>0.715269</td>\n",
       "    </tr>\n",
       "    <tr>\n",
       "      <th>min</th>\n",
       "      <td>49.914430</td>\n",
       "      <td>-7.516225</td>\n",
       "      <td>1.000000</td>\n",
       "      <td>1.000000</td>\n",
       "    </tr>\n",
       "    <tr>\n",
       "      <th>25%</th>\n",
       "      <td>51.490690</td>\n",
       "      <td>-2.332291</td>\n",
       "      <td>1.000000</td>\n",
       "      <td>1.000000</td>\n",
       "    </tr>\n",
       "    <tr>\n",
       "      <th>50%</th>\n",
       "      <td>52.315641</td>\n",
       "      <td>-1.411667</td>\n",
       "      <td>1.000000</td>\n",
       "      <td>2.000000</td>\n",
       "    </tr>\n",
       "    <tr>\n",
       "      <th>75%</th>\n",
       "      <td>53.453452</td>\n",
       "      <td>-0.232869</td>\n",
       "      <td>1.000000</td>\n",
       "      <td>2.000000</td>\n",
       "    </tr>\n",
       "    <tr>\n",
       "      <th>max</th>\n",
       "      <td>60.757544</td>\n",
       "      <td>1.762010</td>\n",
       "      <td>68.000000</td>\n",
       "      <td>32.000000</td>\n",
       "    </tr>\n",
       "  </tbody>\n",
       "</table>\n",
       "</div>"
      ],
      "text/plain": [
       "            Latitude      Longitude  Number_of_Casualties  Number_of_Vehicles\n",
       "count  660654.000000  660653.000000         660679.000000       660679.000000\n",
       "mean       52.553866      -1.431210              1.357040            1.831255\n",
       "std         1.406922       1.383330              0.824847            0.715269\n",
       "min        49.914430      -7.516225              1.000000            1.000000\n",
       "25%        51.490690      -2.332291              1.000000            1.000000\n",
       "50%        52.315641      -1.411667              1.000000            2.000000\n",
       "75%        53.453452      -0.232869              1.000000            2.000000\n",
       "max        60.757544       1.762010             68.000000           32.000000"
      ]
     },
     "execution_count": 6,
     "metadata": {},
     "output_type": "execute_result"
    }
   ],
   "source": [
    "accident.describe()"
   ]
  },
  {
   "cell_type": "code",
   "execution_count": 7,
   "id": "528f49a8-6120-4a24-b4b5-183ad546cd4c",
   "metadata": {},
   "outputs": [
    {
     "data": {
      "text/plain": [
       "Index                       object\n",
       "Accident_Severity           object\n",
       "Accident Date               object\n",
       "Latitude                   float64\n",
       "Light_Conditions            object\n",
       "District Area               object\n",
       "Longitude                  float64\n",
       "Number_of_Casualties         int64\n",
       "Number_of_Vehicles           int64\n",
       "Road_Surface_Conditions     object\n",
       "Road_Type                   object\n",
       "Urban_or_Rural_Area         object\n",
       "Weather_Conditions          object\n",
       "Vehicle_Type                object\n",
       "dtype: object"
      ]
     },
     "execution_count": 7,
     "metadata": {},
     "output_type": "execute_result"
    }
   ],
   "source": [
    "accident.dtypes"
   ]
  },
  {
   "cell_type": "markdown",
   "id": "206f310d-a273-47e0-b857-53cfbc236fa9",
   "metadata": {},
   "source": [
    "<h2> Converting Object to Datetime Datatype</h2>"
   ]
  },
  {
   "cell_type": "code",
   "execution_count": 8,
   "id": "03f71754-ecb3-434b-a999-607c4cac267f",
   "metadata": {},
   "outputs": [],
   "source": [
    "accident['Accident Date'] = pd.to_datetime(accident['Accident Date'], dayfirst = True, errors = 'coerce')"
   ]
  },
  {
   "cell_type": "code",
   "execution_count": 9,
   "id": "dc74a4ee-58ef-4f31-bec8-092cfcb70779",
   "metadata": {},
   "outputs": [],
   "source": [
    "accident['Year'] = accident['Accident Date'].dt.year\n",
    "accident['Month'] = accident['Accident Date'].dt.month\n",
    "accident['Day'] = accident['Accident Date'].dt.day\n",
    "accident['DayofWeek'] = accident['Accident Date'].dt.dayofweek"
   ]
  },
  {
   "cell_type": "code",
   "execution_count": 10,
   "id": "35228d56-9b86-4c4a-b625-4de722be95c3",
   "metadata": {},
   "outputs": [
    {
     "data": {
      "text/plain": [
       "Index                              object\n",
       "Accident_Severity                  object\n",
       "Accident Date              datetime64[ns]\n",
       "Latitude                          float64\n",
       "Light_Conditions                   object\n",
       "District Area                      object\n",
       "Longitude                         float64\n",
       "Number_of_Casualties                int64\n",
       "Number_of_Vehicles                  int64\n",
       "Road_Surface_Conditions            object\n",
       "Road_Type                          object\n",
       "Urban_or_Rural_Area                object\n",
       "Weather_Conditions                 object\n",
       "Vehicle_Type                       object\n",
       "Year                                int32\n",
       "Month                               int32\n",
       "Day                                 int32\n",
       "DayofWeek                           int32\n",
       "dtype: object"
      ]
     },
     "execution_count": 10,
     "metadata": {},
     "output_type": "execute_result"
    }
   ],
   "source": [
    "accident.dtypes"
   ]
  },
  {
   "cell_type": "markdown",
   "id": "50e98abb-bb27-425c-8f4b-5d4770c7914f",
   "metadata": {},
   "source": [
    "<h3> Clearing null values </h3>"
   ]
  },
  {
   "cell_type": "code",
   "execution_count": 11,
   "id": "44b87847-f20c-40c2-96fb-2b508f71e127",
   "metadata": {},
   "outputs": [
    {
     "data": {
      "text/plain": [
       "Index                          0\n",
       "Accident_Severity              0\n",
       "Accident Date                  0\n",
       "Latitude                      25\n",
       "Light_Conditions               0\n",
       "District Area                  0\n",
       "Longitude                     26\n",
       "Number_of_Casualties           0\n",
       "Number_of_Vehicles             0\n",
       "Road_Surface_Conditions      726\n",
       "Road_Type                   4520\n",
       "Urban_or_Rural_Area           15\n",
       "Weather_Conditions         14128\n",
       "Vehicle_Type                   0\n",
       "Year                           0\n",
       "Month                          0\n",
       "Day                            0\n",
       "DayofWeek                      0\n",
       "dtype: int64"
      ]
     },
     "execution_count": 11,
     "metadata": {},
     "output_type": "execute_result"
    }
   ],
   "source": [
    "accident.isnull().sum()"
   ]
  },
  {
   "cell_type": "code",
   "execution_count": 12,
   "id": "dc7ad6df-913f-4df2-8f1c-a17402491b61",
   "metadata": {},
   "outputs": [],
   "source": [
    "accident['Latitude'] = accident['Latitude'].fillna(accident['Latitude'].mode()[0])\n",
    "accident['Longitude'] = accident['Longitude'].fillna(accident['Longitude'].mode()[0])\n",
    "accident['Road_Surface_Conditions'] = accident['Road_Surface_Conditions'].fillna('unknown surface conditions')\n",
    "accident['Road_Type'] = accident['Road_Type'].fillna('unaccounted')\n",
    "accident['Weather_Conditions'] = accident['Weather_Conditions'].fillna('unaccounted weather conditions')\n",
    "accident['Urban_or_Rural_Area'] = accident['Urban_or_Rural_Area'].fillna(accident['Urban_or_Rural_Area'].mode()[0])"
   ]
  },
  {
   "cell_type": "code",
   "execution_count": 13,
   "id": "abf1440b-9c74-4cca-88c8-6ce20746fbb2",
   "metadata": {},
   "outputs": [
    {
     "data": {
      "text/plain": [
       "Index                      0\n",
       "Accident_Severity          0\n",
       "Accident Date              0\n",
       "Latitude                   0\n",
       "Light_Conditions           0\n",
       "District Area              0\n",
       "Longitude                  0\n",
       "Number_of_Casualties       0\n",
       "Number_of_Vehicles         0\n",
       "Road_Surface_Conditions    0\n",
       "Road_Type                  0\n",
       "Urban_or_Rural_Area        0\n",
       "Weather_Conditions         0\n",
       "Vehicle_Type               0\n",
       "Year                       0\n",
       "Month                      0\n",
       "Day                        0\n",
       "DayofWeek                  0\n",
       "dtype: int64"
      ]
     },
     "execution_count": 13,
     "metadata": {},
     "output_type": "execute_result"
    }
   ],
   "source": [
    " accident.isnull().sum()"
   ]
  },
  {
   "cell_type": "markdown",
   "id": "ca6c75fc-aaf4-4a6f-82d9-d17ca9d81fec",
   "metadata": {},
   "source": [
    "<h3> Changing category types </h3>"
   ]
  },
  {
   "cell_type": "code",
   "execution_count": 14,
   "id": "a5b66052-2731-4675-9796-87ede454f0ff",
   "metadata": {},
   "outputs": [],
   "source": [
    "accident['Accident_Severity'] = accident['Accident_Severity'].astype('category')\n",
    "accident['Latitude'] = accident['Latitude'].astype('category')\n",
    "accident['Longitude'] = accident['Longitude'].astype('category')\n",
    "accident['Light_Conditions'] = accident['Light_Conditions'].astype('category')\n",
    "accident['District Area'] = accident['District Area'].astype('category')\n",
    "accident['Road_Surface_Conditions'] = accident['Road_Surface_Conditions'].astype('category')\n",
    "accident['Road_Type'] = accident['Road_Type'].astype('category')\n",
    "accident['Urban_or_Rural_Area'] = accident['Urban_or_Rural_Area'].astype('category')\n",
    "accident['Weather_Conditions'] = accident['Weather_Conditions'].astype('category')\n",
    "accident['Vehicle_Type'] = accident['Vehicle_Type'].astype('category')"
   ]
  },
  {
   "cell_type": "code",
   "execution_count": 15,
   "id": "7ee632d3-6e1a-4d6b-9551-24e33b529bd3",
   "metadata": {
    "scrolled": true
   },
   "outputs": [
    {
     "data": {
      "text/plain": [
       "Index                              object\n",
       "Accident_Severity                category\n",
       "Accident Date              datetime64[ns]\n",
       "Latitude                         category\n",
       "Light_Conditions                 category\n",
       "District Area                    category\n",
       "Longitude                        category\n",
       "Number_of_Casualties                int64\n",
       "Number_of_Vehicles                  int64\n",
       "Road_Surface_Conditions          category\n",
       "Road_Type                        category\n",
       "Urban_or_Rural_Area              category\n",
       "Weather_Conditions               category\n",
       "Vehicle_Type                     category\n",
       "Year                                int32\n",
       "Month                               int32\n",
       "Day                                 int32\n",
       "DayofWeek                           int32\n",
       "dtype: object"
      ]
     },
     "execution_count": 15,
     "metadata": {},
     "output_type": "execute_result"
    }
   ],
   "source": [
    "accident.dtypes"
   ]
  },
  {
   "cell_type": "markdown",
   "id": "b907b62f-41f3-4c79-8b1a-ff2aa6ceb4b6",
   "metadata": {},
   "source": [
    "<h1> UNIVARIATE</h1>"
   ]
  },
  {
   "cell_type": "markdown",
   "id": "296753b6-1384-4af9-a433-5b638520b8b1",
   "metadata": {
    "jp-MarkdownHeadingCollapsed": true
   },
   "source": [
    "<h2>INSIGHT 1</h2>\n",
    "<h3> Which road type helds more accidents?</h3>"
   ]
  },
  {
   "cell_type": "code",
   "execution_count": 16,
   "id": "42dbf485-2493-4104-bb6c-1520ba9bd174",
   "metadata": {},
   "outputs": [
    {
     "data": {
      "text/plain": [
       "np.int64(660679)"
      ]
     },
     "execution_count": 16,
     "metadata": {},
     "output_type": "execute_result"
    }
   ],
   "source": [
    "accident['Road_Type'].count()"
   ]
  },
  {
   "cell_type": "code",
   "execution_count": 17,
   "id": "bace96e9-8d4c-46d2-a552-18a7c59a622e",
   "metadata": {},
   "outputs": [
    {
     "data": {
      "text/plain": [
       "Road_Type\n",
       "Single carriageway    492143\n",
       "Dual carriageway       99424\n",
       "Roundabout             43992\n",
       "One way street         13559\n",
       "Slip road               7041\n",
       "unaccounted             4520\n",
       "Name: count, dtype: int64"
      ]
     },
     "execution_count": 17,
     "metadata": {},
     "output_type": "execute_result"
    }
   ],
   "source": [
    "accident['Road_Type'].value_counts()"
   ]
  },
  {
   "cell_type": "markdown",
   "id": "9f294385-624f-4883-999d-b19eda5eff0c",
   "metadata": {},
   "source": [
    "<p><b>INSIGHT: Single Carriageways have the most accidents, making up over 75% pf total case records </b></p>"
   ]
  },
  {
   "cell_type": "markdown",
   "id": "a41408a7-5f5b-49aa-ab5a-4b1cd75d3fa3",
   "metadata": {
    "jp-MarkdownHeadingCollapsed": true
   },
   "source": [
    "<h2>INSIGHT 2</h2>\n",
    "<h3>What is the most commong weather condition when accidents happen? </h3>"
   ]
  },
  {
   "cell_type": "code",
   "execution_count": 18,
   "id": "26d4f332-4ee2-48d2-8bde-e66c3343f9f5",
   "metadata": {},
   "outputs": [
    {
     "data": {
      "text/plain": [
       "Weather_Conditions\n",
       "Fine no high winds                520885\n",
       "Raining no high winds              79696\n",
       "Other                              17150\n",
       "unaccounted weather conditions     14128\n",
       "Raining + high winds                9615\n",
       "Fine + high winds                   8554\n",
       "Snowing no high winds               6238\n",
       "Fog or mist                         3528\n",
       "Snowing + high winds                 885\n",
       "Name: count, dtype: int64"
      ]
     },
     "execution_count": 18,
     "metadata": {},
     "output_type": "execute_result"
    }
   ],
   "source": [
    "accident['Weather_Conditions'].value_counts()"
   ]
  },
  {
   "cell_type": "markdown",
   "id": "fee0e372-0ed5-49cd-9b90-f5235f124c9e",
   "metadata": {},
   "source": [
    "<p><b>INSIGHT: Fine with no High Winds weather condition accounts for 79% of accidents, suggesting driver behavior plays a significant role rather than extreme weather</b></p>"
   ]
  },
  {
   "cell_type": "markdown",
   "id": "1b5ee466-d2bd-43e5-be98-ec79096344d7",
   "metadata": {
    "jp-MarkdownHeadingCollapsed": true
   },
   "source": [
    "<h2> INSIGHT 3 </h2>\n",
    "<h3> What's the Most Frequent Light Condition during accidents?</h3>"
   ]
  },
  {
   "cell_type": "code",
   "execution_count": 19,
   "id": "502c8d64-03a8-45bb-bd1c-3c8797f473b5",
   "metadata": {},
   "outputs": [
    {
     "data": {
      "text/plain": [
       "Light_Conditions\n",
       "Daylight                       484880\n",
       "Darkness - lights lit          129335\n",
       "Darkness - no lighting          37437\n",
       "Darkness - lighting unknown      6484\n",
       "Darkness - lights unlit          2543\n",
       "Name: count, dtype: int64"
      ]
     },
     "execution_count": 19,
     "metadata": {},
     "output_type": "execute_result"
    }
   ],
   "source": [
    "accident['Light_Conditions'].value_counts()"
   ]
  },
  {
   "cell_type": "markdown",
   "id": "46da7a50-7ba0-4de8-a7b2-eb8d57a5a755",
   "metadata": {},
   "source": [
    "<p><b>INSIGHT: Daylight accidents (73%) most commonly occur rather than nightime accidents</b></p>"
   ]
  },
  {
   "cell_type": "markdown",
   "id": "8fac3eef-db56-444b-8dfb-7eeb4980302a",
   "metadata": {
    "jp-MarkdownHeadingCollapsed": true
   },
   "source": [
    "<h2> INSIGHT 4 </h2>\n",
    "<h3> Which vehicle type is involved in the most accidents? </h3>"
   ]
  },
  {
   "cell_type": "code",
   "execution_count": 20,
   "id": "f61947cd-b2f7-4f1f-a6d0-1ad872711979",
   "metadata": {},
   "outputs": [
    {
     "data": {
      "text/plain": [
       "Vehicle_Type\n",
       "Car                                      497992\n",
       "Van / Goods 3.5 tonnes mgw or under       34160\n",
       "Bus or coach (17 or more pass seats)      25878\n",
       "Motorcycle over 500cc                     25657\n",
       "Goods 7.5 tonnes mgw and over             17307\n",
       "Motorcycle 125cc and under                15269\n",
       "Taxi/Private hire car                     13294\n",
       "Motorcycle over 125cc and up to 500cc      7656\n",
       "Motorcycle 50cc and under                  7603\n",
       "Goods over 3.5t. and under 7.5t            6096\n",
       "Other vehicle                              5637\n",
       "Minibus (8 - 16 passenger seats)           1976\n",
       "Agricultural vehicle                       1947\n",
       "Pedal cycle                                 197\n",
       "Data missing or out of range                  6\n",
       "Ridden horse                                  4\n",
       "Name: count, dtype: int64"
      ]
     },
     "execution_count": 20,
     "metadata": {},
     "output_type": "execute_result"
    }
   ],
   "source": [
    "accident['Vehicle_Type'].value_counts()"
   ]
  },
  {
   "cell_type": "markdown",
   "id": "7fa2141d-3b58-4f78-bf70-a3e7093184e2",
   "metadata": {},
   "source": [
    "<p><b>INSIGHT: Cars are involved in the most accidents resulting to over 75% of the overall accident records </b></p>"
   ]
  },
  {
   "cell_type": "markdown",
   "id": "009ab3d8-114d-476b-8354-4ff82c2af5b3",
   "metadata": {
    "jp-MarkdownHeadingCollapsed": true
   },
   "source": [
    "<h2> INSIGHT 5 </h2>\n",
    "<h3>Which district has the highest number of accidents?</h3>"
   ]
  },
  {
   "cell_type": "code",
   "execution_count": 21,
   "id": "ac01d925-57ed-4394-9e13-5655acf94faf",
   "metadata": {},
   "outputs": [
    {
     "data": {
      "text/plain": [
       "District Area\n",
       "Birmingham            13491\n",
       "Leeds                  8898\n",
       "Manchester             6720\n",
       "Bradford               6212\n",
       "Sheffield              5710\n",
       "                      ...  \n",
       "Berwick-upon-Tweed      153\n",
       "Teesdale                142\n",
       "Shetland Islands        133\n",
       "Orkney Islands          117\n",
       "Clackmannanshire         91\n",
       "Name: count, Length: 422, dtype: int64"
      ]
     },
     "execution_count": 21,
     "metadata": {},
     "output_type": "execute_result"
    }
   ],
   "source": [
    "accident['District Area'].value_counts()"
   ]
  },
  {
   "cell_type": "markdown",
   "id": "c3b0177e-619c-4f3d-b885-cc0d00b22ae0",
   "metadata": {},
   "source": [
    "<p><b>INSIGHT: among all given districs within United Kingdom, Birmingham District helds about 2% of the overall accident records among different districts </b></p>"
   ]
  },
  {
   "cell_type": "markdown",
   "id": "331407f1-e3fd-46a9-a24c-8961465e6172",
   "metadata": {},
   "source": [
    "<h1>BIVARIATE</h1>"
   ]
  },
  {
   "cell_type": "markdown",
   "id": "75d5ba27-ba8e-4277-b1ba-f4713d56e8f8",
   "metadata": {
    "jp-MarkdownHeadingCollapsed": true
   },
   "source": [
    "<h2> INSIGHT 6 </h2>\n",
    "<h3> In what road type does most of the vehicles go?</h3>"
   ]
  },
  {
   "cell_type": "code",
   "execution_count": 22,
   "id": "fed5653c-fe5e-4166-8643-b8bedd97bd05",
   "metadata": {},
   "outputs": [
    {
     "data": {
      "text/plain": [
       "Road_Type\n",
       "Single carriageway    883845\n",
       "Dual carriageway      199819\n",
       "Roundabout             83643\n",
       "One way street         21497\n",
       "Slip road              13501\n",
       "unaccounted             7567\n",
       "Name: Number_of_Vehicles, dtype: int64"
      ]
     },
     "execution_count": 22,
     "metadata": {},
     "output_type": "execute_result"
    }
   ],
   "source": [
    "accident.groupby('Road_Type')['Number_of_Vehicles'].sum().sort_values(ascending=False)"
   ]
  },
  {
   "cell_type": "markdown",
   "id": "3cc77f0f-aec3-40ef-82e7-3a8f81230296",
   "metadata": {},
   "source": [
    "<h4> INSIGHTS: Based from the results, SIngle Carriageway is the go to road type of most of the drivers recorded</h4>"
   ]
  },
  {
   "cell_type": "markdown",
   "id": "a2cea036-ee50-4864-9839-d6cc39055e4c",
   "metadata": {
    "jp-MarkdownHeadingCollapsed": true
   },
   "source": [
    "<h2> INSIGHT 7</h2>\n",
    "<h3> How fatal are the accidents within rural and urban areas?</h3>"
   ]
  },
  {
   "cell_type": "code",
   "execution_count": 23,
   "id": "2af219da-bb12-4f6d-bdb0-e297f9b3f20f",
   "metadata": {},
   "outputs": [],
   "source": [
    "urban_severity = accident[accident['Urban_or_Rural_Area'] == 'Urban']['Accident_Severity'].value_counts()"
   ]
  },
  {
   "cell_type": "code",
   "execution_count": 24,
   "id": "0d6be18f-9a98-49c7-896c-8627acc3c302",
   "metadata": {},
   "outputs": [],
   "source": [
    "rural_severity = accident[accident['Urban_or_Rural_Area'] == 'Rural']['Accident_Severity'].value_counts()"
   ]
  },
  {
   "cell_type": "code",
   "execution_count": 25,
   "id": "b57f1251-fded-41a9-aea3-15925f67d5ce",
   "metadata": {},
   "outputs": [
    {
     "data": {
      "text/plain": [
       "Accident_Severity\n",
       "Slight     367714\n",
       "Serious     50904\n",
       "Fatal        3060\n",
       "Name: count, dtype: int64"
      ]
     },
     "execution_count": 25,
     "metadata": {},
     "output_type": "execute_result"
    }
   ],
   "source": [
    "urban_severity"
   ]
  },
  {
   "cell_type": "code",
   "execution_count": 26,
   "id": "2961c1a0-f005-4de8-baee-e0767c6ae4bf",
   "metadata": {},
   "outputs": [
    {
     "data": {
      "text/plain": [
       "Accident_Severity\n",
       "Slight     196077\n",
       "Serious     37312\n",
       "Fatal        5601\n",
       "Name: count, dtype: int64"
      ]
     },
     "execution_count": 26,
     "metadata": {},
     "output_type": "execute_result"
    }
   ],
   "source": [
    "rural_severity"
   ]
  },
  {
   "cell_type": "markdown",
   "id": "4c36f7bd-159c-429c-b0d1-4de38a4b90ed",
   "metadata": {},
   "source": [
    "<h4> INSIGHT: Ironically, Most fatal accidents occur within rural areas where there are lesser cars than the urban areas. However it is proven the slight accidents can and might happen regardless of the area</h4>"
   ]
  },
  {
   "cell_type": "markdown",
   "id": "5ad5e715-a917-48db-8854-e7699cd3399e",
   "metadata": {
    "jp-MarkdownHeadingCollapsed": true
   },
   "source": [
    "<h2> INSIGHT 8</h2>\n",
    "<h3> Accident severity counts within different weather conditions</h3>"
   ]
  },
  {
   "cell_type": "code",
   "execution_count": 27,
   "id": "b9f1ea82-e37b-4591-af50-1c3de896f19e",
   "metadata": {},
   "outputs": [],
   "source": [
    "weather_severity = accident.groupby('Weather_Conditions')['Accident_Severity'].value_counts().unstack().fillna(0)\n",
    "#severe_weather = weather_severity['Severe'].sort_values(ascending=False)"
   ]
  },
  {
   "cell_type": "code",
   "execution_count": 28,
   "id": "f9d334b0-8640-4cc4-a68b-441306549827",
   "metadata": {},
   "outputs": [
    {
     "data": {
      "text/html": [
       "<div>\n",
       "<style scoped>\n",
       "    .dataframe tbody tr th:only-of-type {\n",
       "        vertical-align: middle;\n",
       "    }\n",
       "\n",
       "    .dataframe tbody tr th {\n",
       "        vertical-align: top;\n",
       "    }\n",
       "\n",
       "    .dataframe thead th {\n",
       "        text-align: right;\n",
       "    }\n",
       "</style>\n",
       "<table border=\"1\" class=\"dataframe\">\n",
       "  <thead>\n",
       "    <tr style=\"text-align: right;\">\n",
       "      <th>Accident_Severity</th>\n",
       "      <th>Fatal</th>\n",
       "      <th>Serious</th>\n",
       "      <th>Slight</th>\n",
       "    </tr>\n",
       "    <tr>\n",
       "      <th>Weather_Conditions</th>\n",
       "      <th></th>\n",
       "      <th></th>\n",
       "      <th></th>\n",
       "    </tr>\n",
       "  </thead>\n",
       "  <tbody>\n",
       "    <tr>\n",
       "      <th>Fine + high winds</th>\n",
       "      <td>175</td>\n",
       "      <td>1245</td>\n",
       "      <td>7134</td>\n",
       "    </tr>\n",
       "    <tr>\n",
       "      <th>Fine no high winds</th>\n",
       "      <td>7100</td>\n",
       "      <td>72046</td>\n",
       "      <td>441739</td>\n",
       "    </tr>\n",
       "    <tr>\n",
       "      <th>Fog or mist</th>\n",
       "      <td>82</td>\n",
       "      <td>483</td>\n",
       "      <td>2963</td>\n",
       "    </tr>\n",
       "    <tr>\n",
       "      <th>Other</th>\n",
       "      <td>165</td>\n",
       "      <td>1801</td>\n",
       "      <td>15184</td>\n",
       "    </tr>\n",
       "    <tr>\n",
       "      <th>Raining + high winds</th>\n",
       "      <td>145</td>\n",
       "      <td>1261</td>\n",
       "      <td>8209</td>\n",
       "    </tr>\n",
       "    <tr>\n",
       "      <th>Raining no high winds</th>\n",
       "      <td>848</td>\n",
       "      <td>9468</td>\n",
       "      <td>69380</td>\n",
       "    </tr>\n",
       "    <tr>\n",
       "      <th>Snowing + high winds</th>\n",
       "      <td>3</td>\n",
       "      <td>109</td>\n",
       "      <td>773</td>\n",
       "    </tr>\n",
       "    <tr>\n",
       "      <th>Snowing no high winds</th>\n",
       "      <td>36</td>\n",
       "      <td>565</td>\n",
       "      <td>5637</td>\n",
       "    </tr>\n",
       "    <tr>\n",
       "      <th>unaccounted weather conditions</th>\n",
       "      <td>107</td>\n",
       "      <td>1239</td>\n",
       "      <td>12782</td>\n",
       "    </tr>\n",
       "  </tbody>\n",
       "</table>\n",
       "</div>"
      ],
      "text/plain": [
       "Accident_Severity               Fatal  Serious  Slight\n",
       "Weather_Conditions                                    \n",
       "Fine + high winds                 175     1245    7134\n",
       "Fine no high winds               7100    72046  441739\n",
       "Fog or mist                        82      483    2963\n",
       "Other                             165     1801   15184\n",
       "Raining + high winds              145     1261    8209\n",
       "Raining no high winds             848     9468   69380\n",
       "Snowing + high winds                3      109     773\n",
       "Snowing no high winds              36      565    5637\n",
       "unaccounted weather conditions    107     1239   12782"
      ]
     },
     "execution_count": 28,
     "metadata": {},
     "output_type": "execute_result"
    }
   ],
   "source": [
    "weather_severity"
   ]
  },
  {
   "cell_type": "markdown",
   "id": "f6ca40ab-934e-47b0-b9a8-4cf3afab959a",
   "metadata": {},
   "source": [
    "<h4> Among all recorded data, Fine with no High winds weather conditions accounts to most of the accidents. This suggests that other factor might be the reason why such accidents happen.</h4>"
   ]
  },
  {
   "cell_type": "markdown",
   "id": "6df76d00-8dc2-4602-99ac-2746a159544b",
   "metadata": {
    "jp-MarkdownHeadingCollapsed": true
   },
   "source": [
    "<h2> INSIGHT 9 </h2>\n",
    "<h3> Number of Vehicles catered in different road surface conditions</h3>"
   ]
  },
  {
   "cell_type": "code",
   "execution_count": 29,
   "id": "e4efd04a-31f9-4256-b1ca-e3e7b9337a3f",
   "metadata": {},
   "outputs": [],
   "source": [
    "vehicles_by_surface = accident.groupby('Road_Surface_Conditions')['Number_of_Vehicles'].sum().sort_values(ascending=False)"
   ]
  },
  {
   "cell_type": "code",
   "execution_count": 30,
   "id": "55be53bc-79bd-446f-aba9-6cb34b766771",
   "metadata": {},
   "outputs": [
    {
     "data": {
      "text/plain": [
       "np.int64(385079)"
      ]
     },
     "execution_count": 30,
     "metadata": {},
     "output_type": "execute_result"
    }
   ],
   "source": [
    "vehicles_by_surface.sum() -824793"
   ]
  },
  {
   "cell_type": "markdown",
   "id": "f4590bd3-a1ee-457a-9390-e5f774bb6692",
   "metadata": {},
   "source": [
    "<h4> INSIGHTS: From the results we can infer that, most drivers prefer to use dry roads(68%) rather than other road surface conditions where the rest of the other drivers drove.<h4>"
   ]
  },
  {
   "cell_type": "markdown",
   "id": "5d093604-8781-433a-9045-3c456cc51d13",
   "metadata": {
    "jp-MarkdownHeadingCollapsed": true
   },
   "source": [
    "<h2> INSIGHT 10 </h2>\n",
    "<h3> How light conditions accounts to different accident severities</h3>"
   ]
  },
  {
   "cell_type": "code",
   "execution_count": 31,
   "id": "a26427fb-03ef-493a-8174-bcab3b978496",
   "metadata": {},
   "outputs": [],
   "source": [
    "light_severity = accident.groupby('Light_Conditions')['Accident_Severity'].value_counts().unstack().fillna(0)"
   ]
  },
  {
   "cell_type": "code",
   "execution_count": 32,
   "id": "f09b5c3f-4eb7-4ec2-9924-800c41121321",
   "metadata": {},
   "outputs": [
    {
     "data": {
      "text/html": [
       "<div>\n",
       "<style scoped>\n",
       "    .dataframe tbody tr th:only-of-type {\n",
       "        vertical-align: middle;\n",
       "    }\n",
       "\n",
       "    .dataframe tbody tr th {\n",
       "        vertical-align: top;\n",
       "    }\n",
       "\n",
       "    .dataframe thead th {\n",
       "        text-align: right;\n",
       "    }\n",
       "</style>\n",
       "<table border=\"1\" class=\"dataframe\">\n",
       "  <thead>\n",
       "    <tr style=\"text-align: right;\">\n",
       "      <th>Accident_Severity</th>\n",
       "      <th>Fatal</th>\n",
       "      <th>Serious</th>\n",
       "      <th>Slight</th>\n",
       "    </tr>\n",
       "    <tr>\n",
       "      <th>Light_Conditions</th>\n",
       "      <th></th>\n",
       "      <th></th>\n",
       "      <th></th>\n",
       "    </tr>\n",
       "  </thead>\n",
       "  <tbody>\n",
       "    <tr>\n",
       "      <th>Darkness - lighting unknown</th>\n",
       "      <td>68</td>\n",
       "      <td>794</td>\n",
       "      <td>5622</td>\n",
       "    </tr>\n",
       "    <tr>\n",
       "      <th>Darkness - lights lit</th>\n",
       "      <td>1860</td>\n",
       "      <td>19130</td>\n",
       "      <td>108345</td>\n",
       "    </tr>\n",
       "    <tr>\n",
       "      <th>Darkness - lights unlit</th>\n",
       "      <td>45</td>\n",
       "      <td>360</td>\n",
       "      <td>2138</td>\n",
       "    </tr>\n",
       "    <tr>\n",
       "      <th>Darkness - no lighting</th>\n",
       "      <td>1612</td>\n",
       "      <td>7174</td>\n",
       "      <td>28651</td>\n",
       "    </tr>\n",
       "    <tr>\n",
       "      <th>Daylight</th>\n",
       "      <td>5076</td>\n",
       "      <td>60759</td>\n",
       "      <td>419045</td>\n",
       "    </tr>\n",
       "  </tbody>\n",
       "</table>\n",
       "</div>"
      ],
      "text/plain": [
       "Accident_Severity            Fatal  Serious  Slight\n",
       "Light_Conditions                                   \n",
       "Darkness - lighting unknown     68      794    5622\n",
       "Darkness - lights lit         1860    19130  108345\n",
       "Darkness - lights unlit         45      360    2138\n",
       "Darkness - no lighting        1612     7174   28651\n",
       "Daylight                      5076    60759  419045"
      ]
     },
     "execution_count": 32,
     "metadata": {},
     "output_type": "execute_result"
    }
   ],
   "source": [
    "light_severity"
   ]
  },
  {
   "cell_type": "markdown",
   "id": "2440b4dc-c141-4b9d-bc38-10adcca97776",
   "metadata": {},
   "source": [
    "<h4> INSIGHTS: Based from the results, most of the given light conditions results to slight accident severities. However fatalities also does occur mostly on streets with broad daylight, in the dark with lights lit, and when there is no lighting.</h4>"
   ]
  },
  {
   "cell_type": "markdown",
   "id": "2b893f55-686b-4fff-99bb-ead20d6b2582",
   "metadata": {},
   "source": [
    "<h1> MULTIVARIATE </h1>"
   ]
  },
  {
   "cell_type": "markdown",
   "id": "edd3e59b-c023-48de-97da-041744455dba",
   "metadata": {
    "jp-MarkdownHeadingCollapsed": true
   },
   "source": [
    "<h2> INSIGHT 11</h2>\n",
    "<h3> How serious accidents happen depending on light conditions, road type, and weather conditions?</h3>"
   ]
  },
  {
   "cell_type": "code",
   "execution_count": 33,
   "id": "f2f9f4c2-d644-4af9-8ce8-de2b33e6d21a",
   "metadata": {},
   "outputs": [
    {
     "data": {
      "text/plain": [
       "Index                      88217\n",
       "Accident_Severity          88217\n",
       "Accident Date              88217\n",
       "Latitude                   88217\n",
       "Light_Conditions           88217\n",
       "District Area              88217\n",
       "Longitude                  88217\n",
       "Number_of_Casualties       88217\n",
       "Number_of_Vehicles         88217\n",
       "Road_Surface_Conditions    88217\n",
       "Road_Type                  88217\n",
       "Urban_or_Rural_Area        88217\n",
       "Weather_Conditions         88217\n",
       "Vehicle_Type               88217\n",
       "Year                       88217\n",
       "Month                      88217\n",
       "Day                        88217\n",
       "DayofWeek                  88217\n",
       "dtype: int64"
      ]
     },
     "execution_count": 33,
     "metadata": {},
     "output_type": "execute_result"
    }
   ],
   "source": [
    "accident[accident['Accident_Severity'] == 'Serious'].count()"
   ]
  },
  {
   "cell_type": "code",
   "execution_count": 34,
   "id": "70f09196-3a79-4f46-8221-b34bfb3e8acc",
   "metadata": {},
   "outputs": [],
   "source": [
    "severe_conditions = accident[accident['Accident_Severity'] == 'Serious'].groupby(['Light_Conditions', 'Road_Type', 'Weather_Conditions']).size().reset_index(name='Count')\n",
    "top_severe = severe_conditions.sort_values('Count', ascending=False)"
   ]
  },
  {
   "cell_type": "code",
   "execution_count": 35,
   "id": "20cc7dba-39b8-4ee3-af36-6aae95ebcbbd",
   "metadata": {},
   "outputs": [
    {
     "data": {
      "text/html": [
       "<div>\n",
       "<style scoped>\n",
       "    .dataframe tbody tr th:only-of-type {\n",
       "        vertical-align: middle;\n",
       "    }\n",
       "\n",
       "    .dataframe tbody tr th {\n",
       "        vertical-align: top;\n",
       "    }\n",
       "\n",
       "    .dataframe thead th {\n",
       "        text-align: right;\n",
       "    }\n",
       "</style>\n",
       "<table border=\"1\" class=\"dataframe\">\n",
       "  <thead>\n",
       "    <tr style=\"text-align: right;\">\n",
       "      <th></th>\n",
       "      <th>Light_Conditions</th>\n",
       "      <th>Road_Type</th>\n",
       "      <th>Weather_Conditions</th>\n",
       "      <th>Count</th>\n",
       "    </tr>\n",
       "  </thead>\n",
       "  <tbody>\n",
       "    <tr>\n",
       "      <th>244</th>\n",
       "      <td>Daylight</td>\n",
       "      <td>Single carriageway</td>\n",
       "      <td>Fine no high winds</td>\n",
       "      <td>41598</td>\n",
       "    </tr>\n",
       "    <tr>\n",
       "      <th>82</th>\n",
       "      <td>Darkness - lights lit</td>\n",
       "      <td>Single carriageway</td>\n",
       "      <td>Fine no high winds</td>\n",
       "      <td>11056</td>\n",
       "    </tr>\n",
       "    <tr>\n",
       "      <th>217</th>\n",
       "      <td>Daylight</td>\n",
       "      <td>Dual carriageway</td>\n",
       "      <td>Fine no high winds</td>\n",
       "      <td>6427</td>\n",
       "    </tr>\n",
       "    <tr>\n",
       "      <th>248</th>\n",
       "      <td>Daylight</td>\n",
       "      <td>Single carriageway</td>\n",
       "      <td>Raining no high winds</td>\n",
       "      <td>4188</td>\n",
       "    </tr>\n",
       "    <tr>\n",
       "      <th>190</th>\n",
       "      <td>Darkness - no lighting</td>\n",
       "      <td>Single carriageway</td>\n",
       "      <td>Fine no high winds</td>\n",
       "      <td>4154</td>\n",
       "    </tr>\n",
       "    <tr>\n",
       "      <th>...</th>\n",
       "      <td>...</td>\n",
       "      <td>...</td>\n",
       "      <td>...</td>\n",
       "      <td>...</td>\n",
       "    </tr>\n",
       "    <tr>\n",
       "      <th>211</th>\n",
       "      <td>Darkness - no lighting</td>\n",
       "      <td>unaccounted</td>\n",
       "      <td>Raining + high winds</td>\n",
       "      <td>0</td>\n",
       "    </tr>\n",
       "    <tr>\n",
       "      <th>231</th>\n",
       "      <td>Daylight</td>\n",
       "      <td>One way street</td>\n",
       "      <td>Snowing + high winds</td>\n",
       "      <td>0</td>\n",
       "    </tr>\n",
       "    <tr>\n",
       "      <th>25</th>\n",
       "      <td>Darkness - lighting unknown</td>\n",
       "      <td>Roundabout</td>\n",
       "      <td>Snowing no high winds</td>\n",
       "      <td>0</td>\n",
       "    </tr>\n",
       "    <tr>\n",
       "      <th>258</th>\n",
       "      <td>Daylight</td>\n",
       "      <td>Slip road</td>\n",
       "      <td>Snowing + high winds</td>\n",
       "      <td>0</td>\n",
       "    </tr>\n",
       "    <tr>\n",
       "      <th>267</th>\n",
       "      <td>Daylight</td>\n",
       "      <td>unaccounted</td>\n",
       "      <td>Snowing + high winds</td>\n",
       "      <td>0</td>\n",
       "    </tr>\n",
       "  </tbody>\n",
       "</table>\n",
       "<p>270 rows × 4 columns</p>\n",
       "</div>"
      ],
      "text/plain": [
       "                Light_Conditions           Road_Type     Weather_Conditions  \\\n",
       "244                     Daylight  Single carriageway     Fine no high winds   \n",
       "82         Darkness - lights lit  Single carriageway     Fine no high winds   \n",
       "217                     Daylight    Dual carriageway     Fine no high winds   \n",
       "248                     Daylight  Single carriageway  Raining no high winds   \n",
       "190       Darkness - no lighting  Single carriageway     Fine no high winds   \n",
       "..                           ...                 ...                    ...   \n",
       "211       Darkness - no lighting         unaccounted   Raining + high winds   \n",
       "231                     Daylight      One way street   Snowing + high winds   \n",
       "25   Darkness - lighting unknown          Roundabout  Snowing no high winds   \n",
       "258                     Daylight           Slip road   Snowing + high winds   \n",
       "267                     Daylight         unaccounted   Snowing + high winds   \n",
       "\n",
       "     Count  \n",
       "244  41598  \n",
       "82   11056  \n",
       "217   6427  \n",
       "248   4188  \n",
       "190   4154  \n",
       "..     ...  \n",
       "211      0  \n",
       "231      0  \n",
       "25       0  \n",
       "258      0  \n",
       "267      0  \n",
       "\n",
       "[270 rows x 4 columns]"
      ]
     },
     "execution_count": 35,
     "metadata": {},
     "output_type": "execute_result"
    }
   ],
   "source": [
    "top_severe"
   ]
  },
  {
   "cell_type": "markdown",
   "id": "0a3f3dbf-85dd-4a63-8864-ee655c30a302",
   "metadata": {},
   "source": [
    "<h4> INSIGHTS: Based from the current records most serious accidents happen during daylight in a single carriageway road with a fine with no high winds, such conditions accounts to 47% of all serious accident conditions recorded</h4>"
   ]
  },
  {
   "cell_type": "markdown",
   "id": "b1e71a9c-33c5-462d-a5b8-b16852c84a25",
   "metadata": {
    "jp-MarkdownHeadingCollapsed": true
   },
   "source": [
    "<h2> INSIGHT 12</h2>\n",
    "<h3> How fatal does then Road Type and its Surface Condition is?</h3>"
   ]
  },
  {
   "cell_type": "code",
   "execution_count": 36,
   "id": "eb76eb0b-5c78-4ca3-a0f5-2842b2b7aa67",
   "metadata": {},
   "outputs": [],
   "source": [
    "surface_road_severity = accident.groupby(['Road_Surface_Conditions', 'Road_Type', 'Accident_Severity']).size().sort_values(ascending=False).reset_index(name='Count')"
   ]
  },
  {
   "cell_type": "code",
   "execution_count": 37,
   "id": "a4acb70b-4106-4bb9-9522-48f9ee863c02",
   "metadata": {},
   "outputs": [
    {
     "data": {
      "text/html": [
       "<div>\n",
       "<style scoped>\n",
       "    .dataframe tbody tr th:only-of-type {\n",
       "        vertical-align: middle;\n",
       "    }\n",
       "\n",
       "    .dataframe tbody tr th {\n",
       "        vertical-align: top;\n",
       "    }\n",
       "\n",
       "    .dataframe thead th {\n",
       "        text-align: right;\n",
       "    }\n",
       "</style>\n",
       "<table border=\"1\" class=\"dataframe\">\n",
       "  <thead>\n",
       "    <tr style=\"text-align: right;\">\n",
       "      <th></th>\n",
       "      <th>Road_Surface_Conditions</th>\n",
       "      <th>Road_Type</th>\n",
       "      <th>Accident_Severity</th>\n",
       "      <th>Count</th>\n",
       "    </tr>\n",
       "  </thead>\n",
       "  <tbody>\n",
       "    <tr>\n",
       "      <th>0</th>\n",
       "      <td>Dry</td>\n",
       "      <td>Single carriageway</td>\n",
       "      <td>Slight</td>\n",
       "      <td>279489</td>\n",
       "    </tr>\n",
       "    <tr>\n",
       "      <th>1</th>\n",
       "      <td>Wet or damp</td>\n",
       "      <td>Single carriageway</td>\n",
       "      <td>Slight</td>\n",
       "      <td>117798</td>\n",
       "    </tr>\n",
       "    <tr>\n",
       "      <th>2</th>\n",
       "      <td>Dry</td>\n",
       "      <td>Dual carriageway</td>\n",
       "      <td>Slight</td>\n",
       "      <td>56889</td>\n",
       "    </tr>\n",
       "    <tr>\n",
       "      <th>3</th>\n",
       "      <td>Dry</td>\n",
       "      <td>Single carriageway</td>\n",
       "      <td>Serious</td>\n",
       "      <td>48873</td>\n",
       "    </tr>\n",
       "    <tr>\n",
       "      <th>4</th>\n",
       "      <td>Dry</td>\n",
       "      <td>Roundabout</td>\n",
       "      <td>Slight</td>\n",
       "      <td>27955</td>\n",
       "    </tr>\n",
       "    <tr>\n",
       "      <th>...</th>\n",
       "      <td>...</td>\n",
       "      <td>...</td>\n",
       "      <td>...</td>\n",
       "      <td>...</td>\n",
       "    </tr>\n",
       "    <tr>\n",
       "      <th>103</th>\n",
       "      <td>unknown surface conditions</td>\n",
       "      <td>One way street</td>\n",
       "      <td>Fatal</td>\n",
       "      <td>0</td>\n",
       "    </tr>\n",
       "    <tr>\n",
       "      <th>104</th>\n",
       "      <td>unknown surface conditions</td>\n",
       "      <td>Roundabout</td>\n",
       "      <td>Fatal</td>\n",
       "      <td>0</td>\n",
       "    </tr>\n",
       "    <tr>\n",
       "      <th>105</th>\n",
       "      <td>unknown surface conditions</td>\n",
       "      <td>Slip road</td>\n",
       "      <td>Fatal</td>\n",
       "      <td>0</td>\n",
       "    </tr>\n",
       "    <tr>\n",
       "      <th>106</th>\n",
       "      <td>unknown surface conditions</td>\n",
       "      <td>Slip road</td>\n",
       "      <td>Serious</td>\n",
       "      <td>0</td>\n",
       "    </tr>\n",
       "    <tr>\n",
       "      <th>107</th>\n",
       "      <td>unknown surface conditions</td>\n",
       "      <td>unaccounted</td>\n",
       "      <td>Fatal</td>\n",
       "      <td>0</td>\n",
       "    </tr>\n",
       "  </tbody>\n",
       "</table>\n",
       "<p>108 rows × 4 columns</p>\n",
       "</div>"
      ],
      "text/plain": [
       "        Road_Surface_Conditions           Road_Type Accident_Severity   Count\n",
       "0                           Dry  Single carriageway            Slight  279489\n",
       "1                   Wet or damp  Single carriageway            Slight  117798\n",
       "2                           Dry    Dual carriageway            Slight   56889\n",
       "3                           Dry  Single carriageway           Serious   48873\n",
       "4                           Dry          Roundabout            Slight   27955\n",
       "..                          ...                 ...               ...     ...\n",
       "103  unknown surface conditions      One way street             Fatal       0\n",
       "104  unknown surface conditions          Roundabout             Fatal       0\n",
       "105  unknown surface conditions           Slip road             Fatal       0\n",
       "106  unknown surface conditions           Slip road           Serious       0\n",
       "107  unknown surface conditions         unaccounted             Fatal       0\n",
       "\n",
       "[108 rows x 4 columns]"
      ]
     },
     "execution_count": 37,
     "metadata": {},
     "output_type": "execute_result"
    }
   ],
   "source": [
    "surface_road_severity"
   ]
  },
  {
   "cell_type": "markdown",
   "id": "8634bc11-24c9-47f1-8691-77e0ea34e553",
   "metadata": {},
   "source": [
    "<h4> INSIGHTS: Within such results, Dry Single Carriageway road type accounts to most of the slight accident severity</h4>"
   ]
  },
  {
   "cell_type": "markdown",
   "id": "e563e7ef-f21b-4a9e-ad89-a9c56bd1c0d3",
   "metadata": {
    "jp-MarkdownHeadingCollapsed": true
   },
   "source": [
    "<h2> INSIGHT 13</h2>\n",
    "<h3> What light conditions in each district results to number of casualties</h3>"
   ]
  },
  {
   "cell_type": "code",
   "execution_count": 38,
   "id": "3f728bfe-16c9-49d4-be4a-a05e1ce2248a",
   "metadata": {},
   "outputs": [],
   "source": [
    "casualties_by_district_light = accident.groupby(['District Area', 'Light_Conditions'])['Number_of_Casualties'].count().sort_values(ascending=False).reset_index()"
   ]
  },
  {
   "cell_type": "code",
   "execution_count": 39,
   "id": "b33be0eb-6814-4ef5-9083-eeedfc6aaa2e",
   "metadata": {},
   "outputs": [
    {
     "data": {
      "text/html": [
       "<div>\n",
       "<style scoped>\n",
       "    .dataframe tbody tr th:only-of-type {\n",
       "        vertical-align: middle;\n",
       "    }\n",
       "\n",
       "    .dataframe tbody tr th {\n",
       "        vertical-align: top;\n",
       "    }\n",
       "\n",
       "    .dataframe thead th {\n",
       "        text-align: right;\n",
       "    }\n",
       "</style>\n",
       "<table border=\"1\" class=\"dataframe\">\n",
       "  <thead>\n",
       "    <tr style=\"text-align: right;\">\n",
       "      <th></th>\n",
       "      <th>District Area</th>\n",
       "      <th>Light_Conditions</th>\n",
       "      <th>Number_of_Casualties</th>\n",
       "    </tr>\n",
       "  </thead>\n",
       "  <tbody>\n",
       "    <tr>\n",
       "      <th>0</th>\n",
       "      <td>Birmingham</td>\n",
       "      <td>Daylight</td>\n",
       "      <td>9667</td>\n",
       "    </tr>\n",
       "    <tr>\n",
       "      <th>1</th>\n",
       "      <td>Leeds</td>\n",
       "      <td>Daylight</td>\n",
       "      <td>6482</td>\n",
       "    </tr>\n",
       "    <tr>\n",
       "      <th>2</th>\n",
       "      <td>Manchester</td>\n",
       "      <td>Daylight</td>\n",
       "      <td>4610</td>\n",
       "    </tr>\n",
       "    <tr>\n",
       "      <th>3</th>\n",
       "      <td>Bradford</td>\n",
       "      <td>Daylight</td>\n",
       "      <td>4459</td>\n",
       "    </tr>\n",
       "    <tr>\n",
       "      <th>4</th>\n",
       "      <td>Sheffield</td>\n",
       "      <td>Daylight</td>\n",
       "      <td>4211</td>\n",
       "    </tr>\n",
       "    <tr>\n",
       "      <th>...</th>\n",
       "      <td>...</td>\n",
       "      <td>...</td>\n",
       "      <td>...</td>\n",
       "    </tr>\n",
       "    <tr>\n",
       "      <th>2105</th>\n",
       "      <td>Islington</td>\n",
       "      <td>Darkness - no lighting</td>\n",
       "      <td>0</td>\n",
       "    </tr>\n",
       "    <tr>\n",
       "      <th>2106</th>\n",
       "      <td>Exeter</td>\n",
       "      <td>Darkness - lighting unknown</td>\n",
       "      <td>0</td>\n",
       "    </tr>\n",
       "    <tr>\n",
       "      <th>2107</th>\n",
       "      <td>Weymouth and Portland</td>\n",
       "      <td>Darkness - lighting unknown</td>\n",
       "      <td>0</td>\n",
       "    </tr>\n",
       "    <tr>\n",
       "      <th>2108</th>\n",
       "      <td>Wyre Forest</td>\n",
       "      <td>Darkness - lighting unknown</td>\n",
       "      <td>0</td>\n",
       "    </tr>\n",
       "    <tr>\n",
       "      <th>2109</th>\n",
       "      <td>Wychavon</td>\n",
       "      <td>Darkness - lighting unknown</td>\n",
       "      <td>0</td>\n",
       "    </tr>\n",
       "  </tbody>\n",
       "</table>\n",
       "<p>2110 rows × 3 columns</p>\n",
       "</div>"
      ],
      "text/plain": [
       "              District Area             Light_Conditions  Number_of_Casualties\n",
       "0                Birmingham                     Daylight                  9667\n",
       "1                     Leeds                     Daylight                  6482\n",
       "2                Manchester                     Daylight                  4610\n",
       "3                  Bradford                     Daylight                  4459\n",
       "4                 Sheffield                     Daylight                  4211\n",
       "...                     ...                          ...                   ...\n",
       "2105              Islington       Darkness - no lighting                     0\n",
       "2106                 Exeter  Darkness - lighting unknown                     0\n",
       "2107  Weymouth and Portland  Darkness - lighting unknown                     0\n",
       "2108            Wyre Forest  Darkness - lighting unknown                     0\n",
       "2109               Wychavon  Darkness - lighting unknown                     0\n",
       "\n",
       "[2110 rows x 3 columns]"
      ]
     },
     "execution_count": 39,
     "metadata": {},
     "output_type": "execute_result"
    }
   ],
   "source": [
    "casualties_by_district_light"
   ]
  },
  {
   "cell_type": "markdown",
   "id": "ed3622c7-503c-4f70-931f-26e9e767cf45",
   "metadata": {},
   "source": [
    "<h4> INSIGHTS: In Birmingham where the highest number of casualties are recorded, most of the accidents happen during broad daylight resulting to approximately 9667 number of casualties recorded.</h4>"
   ]
  },
  {
   "cell_type": "markdown",
   "id": "85bb59e9-e9e8-4e5d-aabd-38f5b22ce6e2",
   "metadata": {
    "jp-MarkdownHeadingCollapsed": true
   },
   "source": [
    "<h2> INSIGHT 14</h2>"
   ]
  },
  {
   "cell_type": "code",
   "execution_count": 40,
   "id": "3784e717-6444-4bce-8070-6281da76f5fe",
   "metadata": {},
   "outputs": [],
   "source": [
    "severe_by_district_road_vehicle = accident[accident['Accident_Severity'] == 'Serious'].groupby(['District Area', 'Road_Type', 'Vehicle_Type']).size().sort_values(ascending=False).reset_index(name='Count')"
   ]
  },
  {
   "cell_type": "code",
   "execution_count": 41,
   "id": "a7c3f875-8017-447a-8642-fe28e2eba77d",
   "metadata": {},
   "outputs": [
    {
     "data": {
      "text/html": [
       "<div>\n",
       "<style scoped>\n",
       "    .dataframe tbody tr th:only-of-type {\n",
       "        vertical-align: middle;\n",
       "    }\n",
       "\n",
       "    .dataframe tbody tr th {\n",
       "        vertical-align: top;\n",
       "    }\n",
       "\n",
       "    .dataframe thead th {\n",
       "        text-align: right;\n",
       "    }\n",
       "</style>\n",
       "<table border=\"1\" class=\"dataframe\">\n",
       "  <thead>\n",
       "    <tr style=\"text-align: right;\">\n",
       "      <th></th>\n",
       "      <th>District Area</th>\n",
       "      <th>Road_Type</th>\n",
       "      <th>Vehicle_Type</th>\n",
       "      <th>Count</th>\n",
       "    </tr>\n",
       "  </thead>\n",
       "  <tbody>\n",
       "    <tr>\n",
       "      <th>0</th>\n",
       "      <td>Birmingham</td>\n",
       "      <td>Single carriageway</td>\n",
       "      <td>Car</td>\n",
       "      <td>727</td>\n",
       "    </tr>\n",
       "    <tr>\n",
       "      <th>1</th>\n",
       "      <td>Leeds</td>\n",
       "      <td>Single carriageway</td>\n",
       "      <td>Car</td>\n",
       "      <td>667</td>\n",
       "    </tr>\n",
       "    <tr>\n",
       "      <th>2</th>\n",
       "      <td>Bradford</td>\n",
       "      <td>Single carriageway</td>\n",
       "      <td>Car</td>\n",
       "      <td>530</td>\n",
       "    </tr>\n",
       "    <tr>\n",
       "      <th>3</th>\n",
       "      <td>Westminster</td>\n",
       "      <td>Single carriageway</td>\n",
       "      <td>Car</td>\n",
       "      <td>473</td>\n",
       "    </tr>\n",
       "    <tr>\n",
       "      <th>4</th>\n",
       "      <td>Sheffield</td>\n",
       "      <td>Single carriageway</td>\n",
       "      <td>Car</td>\n",
       "      <td>438</td>\n",
       "    </tr>\n",
       "    <tr>\n",
       "      <th>...</th>\n",
       "      <td>...</td>\n",
       "      <td>...</td>\n",
       "      <td>...</td>\n",
       "      <td>...</td>\n",
       "    </tr>\n",
       "    <tr>\n",
       "      <th>40507</th>\n",
       "      <td>York</td>\n",
       "      <td>unaccounted</td>\n",
       "      <td>Other vehicle</td>\n",
       "      <td>0</td>\n",
       "    </tr>\n",
       "    <tr>\n",
       "      <th>40508</th>\n",
       "      <td>York</td>\n",
       "      <td>unaccounted</td>\n",
       "      <td>Pedal cycle</td>\n",
       "      <td>0</td>\n",
       "    </tr>\n",
       "    <tr>\n",
       "      <th>40509</th>\n",
       "      <td>York</td>\n",
       "      <td>unaccounted</td>\n",
       "      <td>Ridden horse</td>\n",
       "      <td>0</td>\n",
       "    </tr>\n",
       "    <tr>\n",
       "      <th>40510</th>\n",
       "      <td>York</td>\n",
       "      <td>unaccounted</td>\n",
       "      <td>Taxi/Private hire car</td>\n",
       "      <td>0</td>\n",
       "    </tr>\n",
       "    <tr>\n",
       "      <th>40511</th>\n",
       "      <td>York</td>\n",
       "      <td>unaccounted</td>\n",
       "      <td>Van / Goods 3.5 tonnes mgw or under</td>\n",
       "      <td>0</td>\n",
       "    </tr>\n",
       "  </tbody>\n",
       "</table>\n",
       "<p>40512 rows × 4 columns</p>\n",
       "</div>"
      ],
      "text/plain": [
       "      District Area           Road_Type                         Vehicle_Type  \\\n",
       "0        Birmingham  Single carriageway                                  Car   \n",
       "1             Leeds  Single carriageway                                  Car   \n",
       "2          Bradford  Single carriageway                                  Car   \n",
       "3       Westminster  Single carriageway                                  Car   \n",
       "4         Sheffield  Single carriageway                                  Car   \n",
       "...             ...                 ...                                  ...   \n",
       "40507          York         unaccounted                        Other vehicle   \n",
       "40508          York         unaccounted                          Pedal cycle   \n",
       "40509          York         unaccounted                         Ridden horse   \n",
       "40510          York         unaccounted                Taxi/Private hire car   \n",
       "40511          York         unaccounted  Van / Goods 3.5 tonnes mgw or under   \n",
       "\n",
       "       Count  \n",
       "0        727  \n",
       "1        667  \n",
       "2        530  \n",
       "3        473  \n",
       "4        438  \n",
       "...      ...  \n",
       "40507      0  \n",
       "40508      0  \n",
       "40509      0  \n",
       "40510      0  \n",
       "40511      0  \n",
       "\n",
       "[40512 rows x 4 columns]"
      ]
     },
     "execution_count": 41,
     "metadata": {},
     "output_type": "execute_result"
    }
   ],
   "source": [
    "severe_by_district_road_vehicle"
   ]
  },
  {
   "cell_type": "markdown",
   "id": "dec61ad1-df02-4f6c-9b69-67664490a0a5",
   "metadata": {},
   "source": [
    "<h4> INSIGHTS: Based from the results about 727 count of all the recorded serious accidents happen with cars in a single carriageway road type within the Birmingham District</h4>"
   ]
  },
  {
   "cell_type": "markdown",
   "id": "41c287ff-4631-48a5-98ed-4ec04fa9f4f6",
   "metadata": {
    "jp-MarkdownHeadingCollapsed": true
   },
   "source": [
    "<h2> INSIGHT 15</h2>"
   ]
  },
  {
   "cell_type": "code",
   "execution_count": 42,
   "id": "c268e770-1512-44a7-8ab8-b0a070fe25d1",
   "metadata": {},
   "outputs": [],
   "source": [
    "severity_proportion = accident.groupby(['Road_Type', 'Weather_Conditions', 'Urban_or_Rural_Area'])['Accident_Severity'].value_counts().sort_values(ascending=False).unstack(fill_value=0).reset_index()"
   ]
  },
  {
   "cell_type": "code",
   "execution_count": 43,
   "id": "518e8b62-6937-4964-b2a1-55dd4df8b10e",
   "metadata": {},
   "outputs": [
    {
     "data": {
      "text/html": [
       "<div>\n",
       "<style scoped>\n",
       "    .dataframe tbody tr th:only-of-type {\n",
       "        vertical-align: middle;\n",
       "    }\n",
       "\n",
       "    .dataframe tbody tr th {\n",
       "        vertical-align: top;\n",
       "    }\n",
       "\n",
       "    .dataframe thead th {\n",
       "        text-align: right;\n",
       "    }\n",
       "</style>\n",
       "<table border=\"1\" class=\"dataframe\">\n",
       "  <thead>\n",
       "    <tr style=\"text-align: right;\">\n",
       "      <th>Accident_Severity</th>\n",
       "      <th>Road_Type</th>\n",
       "      <th>Weather_Conditions</th>\n",
       "      <th>Urban_or_Rural_Area</th>\n",
       "      <th>Fatal</th>\n",
       "      <th>Serious</th>\n",
       "      <th>Slight</th>\n",
       "    </tr>\n",
       "  </thead>\n",
       "  <tbody>\n",
       "    <tr>\n",
       "      <th>0</th>\n",
       "      <td>Dual carriageway</td>\n",
       "      <td>Fine + high winds</td>\n",
       "      <td>Rural</td>\n",
       "      <td>17</td>\n",
       "      <td>115</td>\n",
       "      <td>742</td>\n",
       "    </tr>\n",
       "    <tr>\n",
       "      <th>1</th>\n",
       "      <td>Dual carriageway</td>\n",
       "      <td>Fine + high winds</td>\n",
       "      <td>Unallocated</td>\n",
       "      <td>0</td>\n",
       "      <td>0</td>\n",
       "      <td>0</td>\n",
       "    </tr>\n",
       "    <tr>\n",
       "      <th>2</th>\n",
       "      <td>Dual carriageway</td>\n",
       "      <td>Fine + high winds</td>\n",
       "      <td>Urban</td>\n",
       "      <td>15</td>\n",
       "      <td>65</td>\n",
       "      <td>565</td>\n",
       "    </tr>\n",
       "    <tr>\n",
       "      <th>3</th>\n",
       "      <td>Dual carriageway</td>\n",
       "      <td>Fine no high winds</td>\n",
       "      <td>Rural</td>\n",
       "      <td>956</td>\n",
       "      <td>4753</td>\n",
       "      <td>31309</td>\n",
       "    </tr>\n",
       "    <tr>\n",
       "      <th>4</th>\n",
       "      <td>Dual carriageway</td>\n",
       "      <td>Fine no high winds</td>\n",
       "      <td>Unallocated</td>\n",
       "      <td>0</td>\n",
       "      <td>0</td>\n",
       "      <td>0</td>\n",
       "    </tr>\n",
       "    <tr>\n",
       "      <th>...</th>\n",
       "      <td>...</td>\n",
       "      <td>...</td>\n",
       "      <td>...</td>\n",
       "      <td>...</td>\n",
       "      <td>...</td>\n",
       "      <td>...</td>\n",
       "    </tr>\n",
       "    <tr>\n",
       "      <th>157</th>\n",
       "      <td>unaccounted</td>\n",
       "      <td>Snowing no high winds</td>\n",
       "      <td>Unallocated</td>\n",
       "      <td>0</td>\n",
       "      <td>0</td>\n",
       "      <td>0</td>\n",
       "    </tr>\n",
       "    <tr>\n",
       "      <th>158</th>\n",
       "      <td>unaccounted</td>\n",
       "      <td>Snowing no high winds</td>\n",
       "      <td>Urban</td>\n",
       "      <td>1</td>\n",
       "      <td>1</td>\n",
       "      <td>13</td>\n",
       "    </tr>\n",
       "    <tr>\n",
       "      <th>159</th>\n",
       "      <td>unaccounted</td>\n",
       "      <td>unaccounted weather conditions</td>\n",
       "      <td>Rural</td>\n",
       "      <td>3</td>\n",
       "      <td>13</td>\n",
       "      <td>119</td>\n",
       "    </tr>\n",
       "    <tr>\n",
       "      <th>160</th>\n",
       "      <td>unaccounted</td>\n",
       "      <td>unaccounted weather conditions</td>\n",
       "      <td>Unallocated</td>\n",
       "      <td>0</td>\n",
       "      <td>0</td>\n",
       "      <td>0</td>\n",
       "    </tr>\n",
       "    <tr>\n",
       "      <th>161</th>\n",
       "      <td>unaccounted</td>\n",
       "      <td>unaccounted weather conditions</td>\n",
       "      <td>Urban</td>\n",
       "      <td>1</td>\n",
       "      <td>54</td>\n",
       "      <td>712</td>\n",
       "    </tr>\n",
       "  </tbody>\n",
       "</table>\n",
       "<p>162 rows × 6 columns</p>\n",
       "</div>"
      ],
      "text/plain": [
       "Accident_Severity         Road_Type              Weather_Conditions  \\\n",
       "0                  Dual carriageway               Fine + high winds   \n",
       "1                  Dual carriageway               Fine + high winds   \n",
       "2                  Dual carriageway               Fine + high winds   \n",
       "3                  Dual carriageway              Fine no high winds   \n",
       "4                  Dual carriageway              Fine no high winds   \n",
       "..                              ...                             ...   \n",
       "157                     unaccounted           Snowing no high winds   \n",
       "158                     unaccounted           Snowing no high winds   \n",
       "159                     unaccounted  unaccounted weather conditions   \n",
       "160                     unaccounted  unaccounted weather conditions   \n",
       "161                     unaccounted  unaccounted weather conditions   \n",
       "\n",
       "Accident_Severity Urban_or_Rural_Area  Fatal  Serious  Slight  \n",
       "0                               Rural     17      115     742  \n",
       "1                         Unallocated      0        0       0  \n",
       "2                               Urban     15       65     565  \n",
       "3                               Rural    956     4753   31309  \n",
       "4                         Unallocated      0        0       0  \n",
       "..                                ...    ...      ...     ...  \n",
       "157                       Unallocated      0        0       0  \n",
       "158                             Urban      1        1      13  \n",
       "159                             Rural      3       13     119  \n",
       "160                       Unallocated      0        0       0  \n",
       "161                             Urban      1       54     712  \n",
       "\n",
       "[162 rows x 6 columns]"
      ]
     },
     "execution_count": 43,
     "metadata": {},
     "output_type": "execute_result"
    }
   ],
   "source": [
    "severity_proportion"
   ]
  },
  {
   "cell_type": "markdown",
   "id": "5126b811-ecf1-4595-9cc2-816a2e6b729a",
   "metadata": {},
   "source": [
    "<h4> INSIGHTS: the results shows how accident severity is distributed among rural and urban areas considering the road type and weather conditions.</h4>"
   ]
  },
  {
   "cell_type": "markdown",
   "id": "eb1d41ff-260a-46b3-aeff-85d78444d54c",
   "metadata": {
    "jp-MarkdownHeadingCollapsed": true
   },
   "source": [
    "<h2> INSIGT 16</h2>"
   ]
  },
  {
   "cell_type": "code",
   "execution_count": 44,
   "id": "c9e6d4d7-f87a-47f5-80dd-77e10f0a4747",
   "metadata": {},
   "outputs": [],
   "source": [
    "monthly_severity = accident.groupby(['Year', 'Month', 'Accident_Severity']).size().reset_index(name='Count')"
   ]
  },
  {
   "cell_type": "code",
   "execution_count": 45,
   "id": "6588bc2d-e8bc-4ec0-9978-98f79d2b2df7",
   "metadata": {},
   "outputs": [
    {
     "data": {
      "text/html": [
       "<div>\n",
       "<style scoped>\n",
       "    .dataframe tbody tr th:only-of-type {\n",
       "        vertical-align: middle;\n",
       "    }\n",
       "\n",
       "    .dataframe tbody tr th {\n",
       "        vertical-align: top;\n",
       "    }\n",
       "\n",
       "    .dataframe thead th {\n",
       "        text-align: right;\n",
       "    }\n",
       "</style>\n",
       "<table border=\"1\" class=\"dataframe\">\n",
       "  <thead>\n",
       "    <tr style=\"text-align: right;\">\n",
       "      <th></th>\n",
       "      <th>Year</th>\n",
       "      <th>Month</th>\n",
       "      <th>Accident_Severity</th>\n",
       "      <th>Count</th>\n",
       "    </tr>\n",
       "  </thead>\n",
       "  <tbody>\n",
       "    <tr>\n",
       "      <th>0</th>\n",
       "      <td>2019</td>\n",
       "      <td>1</td>\n",
       "      <td>Fatal</td>\n",
       "      <td>239</td>\n",
       "    </tr>\n",
       "    <tr>\n",
       "      <th>1</th>\n",
       "      <td>2019</td>\n",
       "      <td>1</td>\n",
       "      <td>Serious</td>\n",
       "      <td>2009</td>\n",
       "    </tr>\n",
       "    <tr>\n",
       "      <th>2</th>\n",
       "      <td>2019</td>\n",
       "      <td>1</td>\n",
       "      <td>Slight</td>\n",
       "      <td>13107</td>\n",
       "    </tr>\n",
       "    <tr>\n",
       "      <th>3</th>\n",
       "      <td>2019</td>\n",
       "      <td>2</td>\n",
       "      <td>Fatal</td>\n",
       "      <td>173</td>\n",
       "    </tr>\n",
       "    <tr>\n",
       "      <th>4</th>\n",
       "      <td>2019</td>\n",
       "      <td>2</td>\n",
       "      <td>Serious</td>\n",
       "      <td>1639</td>\n",
       "    </tr>\n",
       "    <tr>\n",
       "      <th>...</th>\n",
       "      <td>...</td>\n",
       "      <td>...</td>\n",
       "      <td>...</td>\n",
       "      <td>...</td>\n",
       "    </tr>\n",
       "    <tr>\n",
       "      <th>139</th>\n",
       "      <td>2022</td>\n",
       "      <td>11</td>\n",
       "      <td>Serious</td>\n",
       "      <td>1631</td>\n",
       "    </tr>\n",
       "    <tr>\n",
       "      <th>140</th>\n",
       "      <td>2022</td>\n",
       "      <td>11</td>\n",
       "      <td>Slight</td>\n",
       "      <td>11858</td>\n",
       "    </tr>\n",
       "    <tr>\n",
       "      <th>141</th>\n",
       "      <td>2022</td>\n",
       "      <td>12</td>\n",
       "      <td>Fatal</td>\n",
       "      <td>90</td>\n",
       "    </tr>\n",
       "    <tr>\n",
       "      <th>142</th>\n",
       "      <td>2022</td>\n",
       "      <td>12</td>\n",
       "      <td>Serious</td>\n",
       "      <td>1071</td>\n",
       "    </tr>\n",
       "    <tr>\n",
       "      <th>143</th>\n",
       "      <td>2022</td>\n",
       "      <td>12</td>\n",
       "      <td>Slight</td>\n",
       "      <td>8464</td>\n",
       "    </tr>\n",
       "  </tbody>\n",
       "</table>\n",
       "<p>144 rows × 4 columns</p>\n",
       "</div>"
      ],
      "text/plain": [
       "     Year  Month Accident_Severity  Count\n",
       "0    2019      1             Fatal    239\n",
       "1    2019      1           Serious   2009\n",
       "2    2019      1            Slight  13107\n",
       "3    2019      2             Fatal    173\n",
       "4    2019      2           Serious   1639\n",
       "..    ...    ...               ...    ...\n",
       "139  2022     11           Serious   1631\n",
       "140  2022     11            Slight  11858\n",
       "141  2022     12             Fatal     90\n",
       "142  2022     12           Serious   1071\n",
       "143  2022     12            Slight   8464\n",
       "\n",
       "[144 rows x 4 columns]"
      ]
     },
     "execution_count": 45,
     "metadata": {},
     "output_type": "execute_result"
    }
   ],
   "source": [
    "monthly_severity"
   ]
  },
  {
   "cell_type": "markdown",
   "id": "3b6c35a4-f6ed-45f1-9d5e-c89d0b8e1c2e",
   "metadata": {},
   "source": [
    "<h4> INSIGHT: The results show how many accidents happen within different months of each year in consideration with such accident severities</h4>"
   ]
  },
  {
   "cell_type": "markdown",
   "id": "3f61c674-db72-447f-b2d8-d247edd1060b",
   "metadata": {
    "jp-MarkdownHeadingCollapsed": true
   },
   "source": [
    "<h2> INSIGHT 17</h2>"
   ]
  },
  {
   "cell_type": "code",
   "execution_count": 46,
   "id": "8aaeb5d5-7c6e-43b4-a407-638eaa48c165",
   "metadata": {},
   "outputs": [],
   "source": [
    "day_severity = accident.groupby(['DayofWeek', 'Accident_Severity']).size().sort_values(ascending=False).reset_index(name='Count')"
   ]
  },
  {
   "cell_type": "code",
   "execution_count": 47,
   "id": "d0033e69-4c59-471e-b5a1-594cb3f5cd8c",
   "metadata": {},
   "outputs": [
    {
     "data": {
      "text/html": [
       "<div>\n",
       "<style scoped>\n",
       "    .dataframe tbody tr th:only-of-type {\n",
       "        vertical-align: middle;\n",
       "    }\n",
       "\n",
       "    .dataframe tbody tr th {\n",
       "        vertical-align: top;\n",
       "    }\n",
       "\n",
       "    .dataframe thead th {\n",
       "        text-align: right;\n",
       "    }\n",
       "</style>\n",
       "<table border=\"1\" class=\"dataframe\">\n",
       "  <thead>\n",
       "    <tr style=\"text-align: right;\">\n",
       "      <th></th>\n",
       "      <th>DayofWeek</th>\n",
       "      <th>Accident_Severity</th>\n",
       "      <th>Count</th>\n",
       "    </tr>\n",
       "  </thead>\n",
       "  <tbody>\n",
       "    <tr>\n",
       "      <th>0</th>\n",
       "      <td>5</td>\n",
       "      <td>Slight</td>\n",
       "      <td>91852</td>\n",
       "    </tr>\n",
       "    <tr>\n",
       "      <th>1</th>\n",
       "      <td>3</td>\n",
       "      <td>Slight</td>\n",
       "      <td>85974</td>\n",
       "    </tr>\n",
       "    <tr>\n",
       "      <th>2</th>\n",
       "      <td>2</td>\n",
       "      <td>Slight</td>\n",
       "      <td>85957</td>\n",
       "    </tr>\n",
       "    <tr>\n",
       "      <th>3</th>\n",
       "      <td>4</td>\n",
       "      <td>Slight</td>\n",
       "      <td>84154</td>\n",
       "    </tr>\n",
       "    <tr>\n",
       "      <th>4</th>\n",
       "      <td>1</td>\n",
       "      <td>Slight</td>\n",
       "      <td>81527</td>\n",
       "    </tr>\n",
       "    <tr>\n",
       "      <th>5</th>\n",
       "      <td>6</td>\n",
       "      <td>Slight</td>\n",
       "      <td>74706</td>\n",
       "    </tr>\n",
       "    <tr>\n",
       "      <th>6</th>\n",
       "      <td>0</td>\n",
       "      <td>Slight</td>\n",
       "      <td>59631</td>\n",
       "    </tr>\n",
       "    <tr>\n",
       "      <th>7</th>\n",
       "      <td>5</td>\n",
       "      <td>Serious</td>\n",
       "      <td>14000</td>\n",
       "    </tr>\n",
       "    <tr>\n",
       "      <th>8</th>\n",
       "      <td>6</td>\n",
       "      <td>Serious</td>\n",
       "      <td>13074</td>\n",
       "    </tr>\n",
       "    <tr>\n",
       "      <th>9</th>\n",
       "      <td>4</td>\n",
       "      <td>Serious</td>\n",
       "      <td>12633</td>\n",
       "    </tr>\n",
       "    <tr>\n",
       "      <th>10</th>\n",
       "      <td>2</td>\n",
       "      <td>Serious</td>\n",
       "      <td>12488</td>\n",
       "    </tr>\n",
       "    <tr>\n",
       "      <th>11</th>\n",
       "      <td>3</td>\n",
       "      <td>Serious</td>\n",
       "      <td>12440</td>\n",
       "    </tr>\n",
       "    <tr>\n",
       "      <th>12</th>\n",
       "      <td>1</td>\n",
       "      <td>Serious</td>\n",
       "      <td>11918</td>\n",
       "    </tr>\n",
       "    <tr>\n",
       "      <th>13</th>\n",
       "      <td>0</td>\n",
       "      <td>Serious</td>\n",
       "      <td>11664</td>\n",
       "    </tr>\n",
       "    <tr>\n",
       "      <th>14</th>\n",
       "      <td>6</td>\n",
       "      <td>Fatal</td>\n",
       "      <td>1522</td>\n",
       "    </tr>\n",
       "    <tr>\n",
       "      <th>15</th>\n",
       "      <td>0</td>\n",
       "      <td>Fatal</td>\n",
       "      <td>1385</td>\n",
       "    </tr>\n",
       "    <tr>\n",
       "      <th>16</th>\n",
       "      <td>5</td>\n",
       "      <td>Fatal</td>\n",
       "      <td>1326</td>\n",
       "    </tr>\n",
       "    <tr>\n",
       "      <th>17</th>\n",
       "      <td>4</td>\n",
       "      <td>Fatal</td>\n",
       "      <td>1113</td>\n",
       "    </tr>\n",
       "    <tr>\n",
       "      <th>18</th>\n",
       "      <td>2</td>\n",
       "      <td>Fatal</td>\n",
       "      <td>1113</td>\n",
       "    </tr>\n",
       "    <tr>\n",
       "      <th>19</th>\n",
       "      <td>1</td>\n",
       "      <td>Fatal</td>\n",
       "      <td>1105</td>\n",
       "    </tr>\n",
       "    <tr>\n",
       "      <th>20</th>\n",
       "      <td>3</td>\n",
       "      <td>Fatal</td>\n",
       "      <td>1097</td>\n",
       "    </tr>\n",
       "  </tbody>\n",
       "</table>\n",
       "</div>"
      ],
      "text/plain": [
       "    DayofWeek Accident_Severity  Count\n",
       "0           5            Slight  91852\n",
       "1           3            Slight  85974\n",
       "2           2            Slight  85957\n",
       "3           4            Slight  84154\n",
       "4           1            Slight  81527\n",
       "5           6            Slight  74706\n",
       "6           0            Slight  59631\n",
       "7           5           Serious  14000\n",
       "8           6           Serious  13074\n",
       "9           4           Serious  12633\n",
       "10          2           Serious  12488\n",
       "11          3           Serious  12440\n",
       "12          1           Serious  11918\n",
       "13          0           Serious  11664\n",
       "14          6             Fatal   1522\n",
       "15          0             Fatal   1385\n",
       "16          5             Fatal   1326\n",
       "17          4             Fatal   1113\n",
       "18          2             Fatal   1113\n",
       "19          1             Fatal   1105\n",
       "20          3             Fatal   1097"
      ]
     },
     "execution_count": 47,
     "metadata": {},
     "output_type": "execute_result"
    }
   ],
   "source": [
    "day_severity"
   ]
  },
  {
   "cell_type": "markdown",
   "id": "c2df0298-24a3-413c-804f-5948210e2e54",
   "metadata": {},
   "source": [
    "<h4> INSIGHTS: Based from the records most accidents happen during Fridays resulting to a count of 91852 number of slight accident severities</h4>"
   ]
  },
  {
   "cell_type": "markdown",
   "id": "ba231367-7b43-455e-9c18-fe84a242eba3",
   "metadata": {
    "jp-MarkdownHeadingCollapsed": true
   },
   "source": [
    "<h2> INSIGHT 18 </h2>"
   ]
  },
  {
   "cell_type": "code",
   "execution_count": 48,
   "id": "05c6e0fb-f319-4ed5-a2e5-17f44b8c0c2e",
   "metadata": {},
   "outputs": [],
   "source": [
    "weather_month = accident.groupby(['Month', 'Weather_Conditions'])['Number_of_Casualties'].sum().sort_values(ascending=False).reset_index()"
   ]
  },
  {
   "cell_type": "code",
   "execution_count": 49,
   "id": "3afe262c-2eea-45c3-b961-fe1d557aaefa",
   "metadata": {},
   "outputs": [
    {
     "data": {
      "text/html": [
       "<div>\n",
       "<style scoped>\n",
       "    .dataframe tbody tr th:only-of-type {\n",
       "        vertical-align: middle;\n",
       "    }\n",
       "\n",
       "    .dataframe tbody tr th {\n",
       "        vertical-align: top;\n",
       "    }\n",
       "\n",
       "    .dataframe thead th {\n",
       "        text-align: right;\n",
       "    }\n",
       "</style>\n",
       "<table border=\"1\" class=\"dataframe\">\n",
       "  <thead>\n",
       "    <tr style=\"text-align: right;\">\n",
       "      <th></th>\n",
       "      <th>Month</th>\n",
       "      <th>Weather_Conditions</th>\n",
       "      <th>Number_of_Casualties</th>\n",
       "    </tr>\n",
       "  </thead>\n",
       "  <tbody>\n",
       "    <tr>\n",
       "      <th>0</th>\n",
       "      <td>6</td>\n",
       "      <td>Fine no high winds</td>\n",
       "      <td>64819</td>\n",
       "    </tr>\n",
       "    <tr>\n",
       "      <th>1</th>\n",
       "      <td>5</td>\n",
       "      <td>Fine no high winds</td>\n",
       "      <td>64372</td>\n",
       "    </tr>\n",
       "    <tr>\n",
       "      <th>2</th>\n",
       "      <td>10</td>\n",
       "      <td>Fine no high winds</td>\n",
       "      <td>64131</td>\n",
       "    </tr>\n",
       "    <tr>\n",
       "      <th>3</th>\n",
       "      <td>9</td>\n",
       "      <td>Fine no high winds</td>\n",
       "      <td>63584</td>\n",
       "    </tr>\n",
       "    <tr>\n",
       "      <th>4</th>\n",
       "      <td>7</td>\n",
       "      <td>Fine no high winds</td>\n",
       "      <td>62678</td>\n",
       "    </tr>\n",
       "    <tr>\n",
       "      <th>...</th>\n",
       "      <td>...</td>\n",
       "      <td>...</td>\n",
       "      <td>...</td>\n",
       "    </tr>\n",
       "    <tr>\n",
       "      <th>103</th>\n",
       "      <td>8</td>\n",
       "      <td>Snowing + high winds</td>\n",
       "      <td>5</td>\n",
       "    </tr>\n",
       "    <tr>\n",
       "      <th>104</th>\n",
       "      <td>5</td>\n",
       "      <td>Snowing + high winds</td>\n",
       "      <td>3</td>\n",
       "    </tr>\n",
       "    <tr>\n",
       "      <th>105</th>\n",
       "      <td>9</td>\n",
       "      <td>Snowing + high winds</td>\n",
       "      <td>2</td>\n",
       "    </tr>\n",
       "    <tr>\n",
       "      <th>106</th>\n",
       "      <td>7</td>\n",
       "      <td>Snowing + high winds</td>\n",
       "      <td>1</td>\n",
       "    </tr>\n",
       "    <tr>\n",
       "      <th>107</th>\n",
       "      <td>6</td>\n",
       "      <td>Snowing + high winds</td>\n",
       "      <td>0</td>\n",
       "    </tr>\n",
       "  </tbody>\n",
       "</table>\n",
       "<p>108 rows × 3 columns</p>\n",
       "</div>"
      ],
      "text/plain": [
       "     Month    Weather_Conditions  Number_of_Casualties\n",
       "0        6    Fine no high winds                 64819\n",
       "1        5    Fine no high winds                 64372\n",
       "2       10    Fine no high winds                 64131\n",
       "3        9    Fine no high winds                 63584\n",
       "4        7    Fine no high winds                 62678\n",
       "..     ...                   ...                   ...\n",
       "103      8  Snowing + high winds                     5\n",
       "104      5  Snowing + high winds                     3\n",
       "105      9  Snowing + high winds                     2\n",
       "106      7  Snowing + high winds                     1\n",
       "107      6  Snowing + high winds                     0\n",
       "\n",
       "[108 rows x 3 columns]"
      ]
     },
     "execution_count": 49,
     "metadata": {},
     "output_type": "execute_result"
    }
   ],
   "source": [
    "weather_month"
   ]
  },
  {
   "cell_type": "markdown",
   "id": "599dd00a-2ff9-4862-b427-bd1af53cf39a",
   "metadata": {},
   "source": [
    "<h4> INSIGHTS: In june where Fine with no High winds are usual, aboout 64819 number of casualties are affected duting different accidents</h4>"
   ]
  },
  {
   "cell_type": "markdown",
   "id": "d44c1f22-2de2-4858-a4b2-ad39a741e009",
   "metadata": {
    "jp-MarkdownHeadingCollapsed": true
   },
   "source": [
    "<h2> INSIGHT 19</h2>"
   ]
  },
  {
   "cell_type": "code",
   "execution_count": 50,
   "id": "475bf4f0-7368-4f46-9859-363efd67d67d",
   "metadata": {},
   "outputs": [],
   "source": [
    " top_severe_months = accident[accident['Accident_Severity'] == 'Serious'].groupby(['Month']).size().reset_index(name='Count').sort_values('Count', ascending=False).head(3)"
   ]
  },
  {
   "cell_type": "code",
   "execution_count": 51,
   "id": "8907702a-5756-4c43-99e0-90e23b04e526",
   "metadata": {},
   "outputs": [
    {
     "data": {
      "text/html": [
       "<div>\n",
       "<style scoped>\n",
       "    .dataframe tbody tr th:only-of-type {\n",
       "        vertical-align: middle;\n",
       "    }\n",
       "\n",
       "    .dataframe tbody tr th {\n",
       "        vertical-align: top;\n",
       "    }\n",
       "\n",
       "    .dataframe thead th {\n",
       "        text-align: right;\n",
       "    }\n",
       "</style>\n",
       "<table border=\"1\" class=\"dataframe\">\n",
       "  <thead>\n",
       "    <tr style=\"text-align: right;\">\n",
       "      <th></th>\n",
       "      <th>Month</th>\n",
       "      <th>Count</th>\n",
       "    </tr>\n",
       "  </thead>\n",
       "  <tbody>\n",
       "    <tr>\n",
       "      <th>8</th>\n",
       "      <td>9</td>\n",
       "      <td>7987</td>\n",
       "    </tr>\n",
       "    <tr>\n",
       "      <th>9</th>\n",
       "      <td>10</td>\n",
       "      <td>7939</td>\n",
       "    </tr>\n",
       "    <tr>\n",
       "      <th>5</th>\n",
       "      <td>6</td>\n",
       "      <td>7916</td>\n",
       "    </tr>\n",
       "  </tbody>\n",
       "</table>\n",
       "</div>"
      ],
      "text/plain": [
       "   Month  Count\n",
       "8      9   7987\n",
       "9     10   7939\n",
       "5      6   7916"
      ]
     },
     "execution_count": 51,
     "metadata": {},
     "output_type": "execute_result"
    }
   ],
   "source": [
    "top_severe_months"
   ]
  },
  {
   "cell_type": "markdown",
   "id": "2cec0429-7a8b-4ff9-a3d7-a65f0fadafc6",
   "metadata": {},
   "source": [
    "<h4> INSIGHTS: Most serious accidents happen during the month of September</h4>"
   ]
  },
  {
   "cell_type": "markdown",
   "id": "cb533b8a-70c0-42d4-b533-d1ab57338343",
   "metadata": {
    "jp-MarkdownHeadingCollapsed": true
   },
   "source": [
    "<h2> INSIGHT 20</h2>"
   ]
  },
  {
   "cell_type": "code",
   "execution_count": 52,
   "id": "18991f16-4958-43a5-a68f-483ded064fc3",
   "metadata": {},
   "outputs": [],
   "source": [
    "vehicles_trend = accident.groupby(['Year', 'Month', 'Accident_Severity'])['Number_of_Vehicles'].sum().sort_values(ascending=False).reset_index()"
   ]
  },
  {
   "cell_type": "code",
   "execution_count": 53,
   "id": "5518af71-bdfd-438f-aa8b-136b86fbbf06",
   "metadata": {},
   "outputs": [
    {
     "data": {
      "text/html": [
       "<div>\n",
       "<style scoped>\n",
       "    .dataframe tbody tr th:only-of-type {\n",
       "        vertical-align: middle;\n",
       "    }\n",
       "\n",
       "    .dataframe tbody tr th {\n",
       "        vertical-align: top;\n",
       "    }\n",
       "\n",
       "    .dataframe thead th {\n",
       "        text-align: right;\n",
       "    }\n",
       "</style>\n",
       "<table border=\"1\" class=\"dataframe\">\n",
       "  <thead>\n",
       "    <tr style=\"text-align: right;\">\n",
       "      <th></th>\n",
       "      <th>Year</th>\n",
       "      <th>Month</th>\n",
       "      <th>Accident_Severity</th>\n",
       "      <th>Number_of_Vehicles</th>\n",
       "    </tr>\n",
       "  </thead>\n",
       "  <tbody>\n",
       "    <tr>\n",
       "      <th>0</th>\n",
       "      <td>2019</td>\n",
       "      <td>11</td>\n",
       "      <td>Slight</td>\n",
       "      <td>26256</td>\n",
       "    </tr>\n",
       "    <tr>\n",
       "      <th>1</th>\n",
       "      <td>2019</td>\n",
       "      <td>5</td>\n",
       "      <td>Slight</td>\n",
       "      <td>25439</td>\n",
       "    </tr>\n",
       "    <tr>\n",
       "      <th>2</th>\n",
       "      <td>2019</td>\n",
       "      <td>7</td>\n",
       "      <td>Slight</td>\n",
       "      <td>25145</td>\n",
       "    </tr>\n",
       "    <tr>\n",
       "      <th>3</th>\n",
       "      <td>2021</td>\n",
       "      <td>11</td>\n",
       "      <td>Slight</td>\n",
       "      <td>25043</td>\n",
       "    </tr>\n",
       "    <tr>\n",
       "      <th>4</th>\n",
       "      <td>2020</td>\n",
       "      <td>10</td>\n",
       "      <td>Slight</td>\n",
       "      <td>24832</td>\n",
       "    </tr>\n",
       "    <tr>\n",
       "      <th>...</th>\n",
       "      <td>...</td>\n",
       "      <td>...</td>\n",
       "      <td>...</td>\n",
       "      <td>...</td>\n",
       "    </tr>\n",
       "    <tr>\n",
       "      <th>139</th>\n",
       "      <td>2022</td>\n",
       "      <td>7</td>\n",
       "      <td>Fatal</td>\n",
       "      <td>214</td>\n",
       "    </tr>\n",
       "    <tr>\n",
       "      <th>140</th>\n",
       "      <td>2022</td>\n",
       "      <td>4</td>\n",
       "      <td>Fatal</td>\n",
       "      <td>209</td>\n",
       "    </tr>\n",
       "    <tr>\n",
       "      <th>141</th>\n",
       "      <td>2022</td>\n",
       "      <td>2</td>\n",
       "      <td>Fatal</td>\n",
       "      <td>207</td>\n",
       "    </tr>\n",
       "    <tr>\n",
       "      <th>142</th>\n",
       "      <td>2022</td>\n",
       "      <td>1</td>\n",
       "      <td>Fatal</td>\n",
       "      <td>180</td>\n",
       "    </tr>\n",
       "    <tr>\n",
       "      <th>143</th>\n",
       "      <td>2022</td>\n",
       "      <td>12</td>\n",
       "      <td>Fatal</td>\n",
       "      <td>162</td>\n",
       "    </tr>\n",
       "  </tbody>\n",
       "</table>\n",
       "<p>144 rows × 4 columns</p>\n",
       "</div>"
      ],
      "text/plain": [
       "     Year  Month Accident_Severity  Number_of_Vehicles\n",
       "0    2019     11            Slight               26256\n",
       "1    2019      5            Slight               25439\n",
       "2    2019      7            Slight               25145\n",
       "3    2021     11            Slight               25043\n",
       "4    2020     10            Slight               24832\n",
       "..    ...    ...               ...                 ...\n",
       "139  2022      7             Fatal                 214\n",
       "140  2022      4             Fatal                 209\n",
       "141  2022      2             Fatal                 207\n",
       "142  2022      1             Fatal                 180\n",
       "143  2022     12             Fatal                 162\n",
       "\n",
       "[144 rows x 4 columns]"
      ]
     },
     "execution_count": 53,
     "metadata": {},
     "output_type": "execute_result"
    }
   ],
   "source": [
    "vehicles_trend"
   ]
  },
  {
   "cell_type": "markdown",
   "id": "764de03e-17d0-453c-897a-ac6fdaf0232a",
   "metadata": {},
   "source": [
    "\n",
    "<h4> INSIGHTS: Based from the given results we can infer that within the month of November during 2019, most of the slight accidents happen affecting the total of 26256 vehicles or 3% of all the road accidents recorded</h4>"
   ]
  }
 ],
 "metadata": {
  "kernelspec": {
   "display_name": "Python 3 (ipykernel)",
   "language": "python",
   "name": "python3"
  },
  "language_info": {
   "codemirror_mode": {
    "name": "ipython",
    "version": 3
   },
   "file_extension": ".py",
   "mimetype": "text/x-python",
   "name": "python",
   "nbconvert_exporter": "python",
   "pygments_lexer": "ipython3",
   "version": "3.13.2"
  }
 },
 "nbformat": 4,
 "nbformat_minor": 5
}
